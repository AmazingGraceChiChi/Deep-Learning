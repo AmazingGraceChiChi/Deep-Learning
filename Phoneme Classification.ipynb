{
 "cells": [
  {
   "cell_type": "markdown",
   "metadata": {
    "id": "OYlaRwNu7ojq"
   },
   "source": [
    "# **Homework 2 Phoneme Classification**\n",
    "\n",
    "* Slides: https://docs.google.com/presentation/d/1v6HkBWiJb8WNDcJ9_-2kwVstxUWml87b9CnA16Gdoio/edit?usp=sharing\n",
    "* Kaggle: https://www.kaggle.com/c/ml2022spring-hw2\n",
    "* Video: TBA\n"
   ]
  },
  {
   "cell_type": "code",
   "execution_count": 13,
   "metadata": {
    "colab": {
     "base_uri": "https://localhost:8080/"
    },
    "id": "mLQI0mNcmM-O",
    "outputId": "ed8cc370-5859-4114-bf79-ce1937be78aa"
   },
   "outputs": [
    {
     "name": "stdout",
     "output_type": "stream",
     "text": [
      "Fri Mar 11 04:10:06 2022       \r\n",
      "+-----------------------------------------------------------------------------+\r\n",
      "| NVIDIA-SMI 470.86       Driver Version: 470.86       CUDA Version: 11.4     |\r\n",
      "|-------------------------------+----------------------+----------------------+\r\n",
      "| GPU  Name        Persistence-M| Bus-Id        Disp.A | Volatile Uncorr. ECC |\r\n",
      "| Fan  Temp  Perf  Pwr:Usage/Cap|         Memory-Usage | GPU-Util  Compute M. |\r\n",
      "|                               |                      |               MIG M. |\r\n",
      "|===============================+======================+======================|\r\n",
      "|   0  NVIDIA A100-PCI...  Off  | 00000000:D8:00.0 Off |                    0 |\r\n",
      "| N/A   30C    P0    34W / 250W |   2412MiB / 40536MiB |      0%      Default |\r\n",
      "|                               |                      |             Disabled |\r\n",
      "+-------------------------------+----------------------+----------------------+\r\n",
      "                                                                               \r\n",
      "+-----------------------------------------------------------------------------+\r\n",
      "| Processes:                                                                  |\r\n",
      "|  GPU   GI   CI        PID   Type   Process name                  GPU Memory |\r\n",
      "|        ID   ID                                                   Usage      |\r\n",
      "|=============================================================================|\r\n",
      "+-----------------------------------------------------------------------------+\r\n"
     ]
    }
   ],
   "source": [
    "!nvidia-smi"
   ]
  },
  {
   "cell_type": "markdown",
   "metadata": {
    "id": "KVUGfWTo7_Oj"
   },
   "source": [
    "## Download Data\n",
    "Download data from google drive, then unzip it.\n",
    "\n",
    "You should have\n",
    "- `libriphone/train_split.txt`\n",
    "- `libriphone/train_labels`\n",
    "- `libriphone/test_split.txt`\n",
    "- `libriphone/feat/train/*.pt`: training feature<br>\n",
    "- `libriphone/feat/test/*.pt`:  testing feature<br>\n",
    "\n",
    "after running the following block.\n",
    "\n",
    "> **Notes: if the links are dead, you can download the data directly from [Kaggle](https://www.kaggle.com/c/ml2022spring-hw2/data) and upload it to the workspace, or you can use [the Kaggle API](https://www.kaggle.com/general/74235) to directly download the data into colab.**\n"
   ]
  },
  {
   "cell_type": "markdown",
   "metadata": {
    "id": "Bj5jYXsD9Ef3"
   },
   "source": [
    "### Download train/test metadata"
   ]
  },
  {
   "cell_type": "code",
   "execution_count": 14,
   "metadata": {
    "colab": {
     "base_uri": "https://localhost:8080/"
    },
    "id": "OzkiMEcC3Foq",
    "outputId": "ad93b788-b076-4fc5-b39c-98001c50a0a3"
   },
   "outputs": [
    {
     "data": {
      "text/plain": [
       "'\\n# Main link\\n!wget -O libriphone.zip \"https://github.com/xraychen/shiny-robot/releases/download/v1.0/libriphone.zip\"\\n\\n# Backup Link 0\\n# !pip install --upgrade gdown\\n# !gdown --id \\'1o6Ag-G3qItSmYhTheX6DYiuyNzWyHyTc\\' --output libriphone.zip\\n\\n# Backup link 1\\n# !pip install --upgrade gdown\\n# !gdown --id \\'1R1uQYi4QpX0tBfUWt2mbZcncdBsJkxeW\\' --output libriphone.zip\\n\\n# Backup link 2\\n# !wget -O libriphone.zip \"https://www.dropbox.com/s/wqww8c5dbrl2ka9/libriphone.zip?dl=1\"\\n\\n# Backup link 3\\n# !wget -O libriphone.zip \"https://www.dropbox.com/s/p2ljbtb2bam13in/libriphone.zip?dl=1\"\\n\\n!unzip -q libriphone.zip\\n!ls libriphone\\n'"
      ]
     },
     "execution_count": 14,
     "metadata": {},
     "output_type": "execute_result"
    }
   ],
   "source": [
    "'''\n",
    "# Main link\n",
    "!wget -O libriphone.zip \"https://github.com/xraychen/shiny-robot/releases/download/v1.0/libriphone.zip\"\n",
    "\n",
    "# Backup Link 0\n",
    "# !pip install --upgrade gdown\n",
    "# !gdown --id '1o6Ag-G3qItSmYhTheX6DYiuyNzWyHyTc' --output libriphone.zip\n",
    "\n",
    "# Backup link 1\n",
    "# !pip install --upgrade gdown\n",
    "# !gdown --id '1R1uQYi4QpX0tBfUWt2mbZcncdBsJkxeW' --output libriphone.zip\n",
    "\n",
    "# Backup link 2\n",
    "# !wget -O libriphone.zip \"https://www.dropbox.com/s/wqww8c5dbrl2ka9/libriphone.zip?dl=1\"\n",
    "\n",
    "# Backup link 3\n",
    "# !wget -O libriphone.zip \"https://www.dropbox.com/s/p2ljbtb2bam13in/libriphone.zip?dl=1\"\n",
    "\n",
    "!unzip -q libriphone.zip\n",
    "!ls libriphone\n",
    "'''"
   ]
  },
  {
   "cell_type": "markdown",
   "metadata": {
    "id": "_L_4anls8Drv"
   },
   "source": [
    "### Preparing Data"
   ]
  },
  {
   "cell_type": "markdown",
   "metadata": {
    "id": "po4N3C-AWuWl"
   },
   "source": [
    "**Helper functions to pre-process the training data from raw MFCC features of each utterance.**\n",
    "\n",
    "A phoneme may span several frames and is dependent to past and future frames. \\\n",
    "Hence we concatenate neighboring phonemes for training to achieve higher accuracy. The **concat_feat** function concatenates past and future k frames (total 2k+1 = n frames), and we predict the center frame.\n",
    "\n",
    "Feel free to modify the data preprocess functions, but **do not drop any frame** (if you modify the functions, remember to check that the number of frames are the same as mentioned in the slides)"
   ]
  },
  {
   "cell_type": "code",
   "execution_count": 15,
   "metadata": {
    "id": "IJjLT8em-y9G"
   },
   "outputs": [],
   "source": [
    "import os\n",
    "import random\n",
    "import pandas as pd\n",
    "import torch\n",
    "from tqdm import tqdm\n",
    "\n",
    "def load_feat(path):\n",
    "    feat = torch.load(path)\n",
    "    return feat\n",
    "\n",
    "def shift(x, n):\n",
    "    if n < 0:\n",
    "        left = x[0].repeat(-n, 1)\n",
    "        right = x[:n]\n",
    "\n",
    "    elif n > 0:\n",
    "        right = x[-1].repeat(n, 1)\n",
    "        left = x[n:]\n",
    "    else:\n",
    "        return x\n",
    "\n",
    "    return torch.cat((left, right), dim=0)\n",
    "\n",
    "def concat_feat(x, concat_n):\n",
    "    assert concat_n % 2 == 1 # n must be odd\n",
    "    if concat_n < 2:\n",
    "        return x\n",
    "    seq_len, feature_dim = x.size(0), x.size(1)\n",
    "    x = x.repeat(1, concat_n) \n",
    "    x = x.view(seq_len, concat_n, feature_dim).permute(1, 0, 2) # concat_n, seq_len, feature_dim\n",
    "    mid = (concat_n // 2)\n",
    "    for r_idx in range(1, mid+1):\n",
    "        x[mid + r_idx, :] = shift(x[mid + r_idx], r_idx)\n",
    "        x[mid - r_idx, :] = shift(x[mid - r_idx], -r_idx)\n",
    "\n",
    "    return x.permute(1, 0, 2).view(seq_len, concat_n * feature_dim)\n",
    "\n",
    "def preprocess_data(split, feat_dir, phone_path, concat_nframes, train_ratio=0.8, train_val_seed=1337):\n",
    "    class_num = 41 # NOTE: pre-computed, should not need change\n",
    "    mode = 'train' if (split == 'train' or split == 'val') else 'test'\n",
    "\n",
    "    label_dict = {}\n",
    "    if mode != 'test':\n",
    "      phone_file = open(os.path.join(phone_path, f'{mode}_labels.txt')).readlines()\n",
    "\n",
    "      for line in phone_file:\n",
    "          line = line.strip('\\n').split(' ')\n",
    "          label_dict[line[0]] = [int(p) for p in line[1:]]\n",
    "\n",
    "    if split == 'train' or split == 'val':\n",
    "        # split training and validation data\n",
    "        usage_list = open(os.path.join(phone_path, 'train_split.txt')).readlines()\n",
    "        random.seed(train_val_seed)\n",
    "        random.shuffle(usage_list)\n",
    "        percent = int(len(usage_list) * train_ratio)\n",
    "        usage_list = usage_list[:percent] if split == 'train' else usage_list[percent:]\n",
    "    elif split == 'test':\n",
    "        usage_list = open(os.path.join(phone_path, 'test_split.txt')).readlines()\n",
    "    else:\n",
    "        raise ValueError('Invalid \\'split\\' argument for dataset: PhoneDataset!')\n",
    "\n",
    "    usage_list = [line.strip('\\n') for line in usage_list]\n",
    "    print('[Dataset] - # phone classes: ' + str(class_num) + ', number of utterances for ' + split + ': ' + str(len(usage_list)))\n",
    "\n",
    "    max_len = 3000000\n",
    "    X = torch.empty(max_len, 39 * concat_nframes)\n",
    "    if mode != 'test':\n",
    "      y = torch.empty(max_len, dtype=torch.long)\n",
    "\n",
    "    idx = 0\n",
    "    for i, fname in tqdm(enumerate(usage_list)):\n",
    "        feat = load_feat(os.path.join(feat_dir, mode, f'{fname}.pt'))\n",
    "        cur_len = len(feat)\n",
    "        feat = concat_feat(feat, concat_nframes)\n",
    "        if mode != 'test':\n",
    "          label = torch.LongTensor(label_dict[fname])\n",
    "\n",
    "        X[idx: idx + cur_len, :] = feat\n",
    "        if mode != 'test':\n",
    "          y[idx: idx + cur_len] = label\n",
    "\n",
    "        idx += cur_len\n",
    "\n",
    "    X = X[:idx, :]\n",
    "    if mode != 'test':\n",
    "      y = y[:idx]\n",
    "\n",
    "    print(f'[INFO] {split} set')\n",
    "    print(X.shape)\n",
    "    if mode != 'test':\n",
    "      print(y.shape)\n",
    "      return X, y\n",
    "    else:\n",
    "      return X\n"
   ]
  },
  {
   "cell_type": "markdown",
   "metadata": {
    "id": "us5XW_x6udZQ"
   },
   "source": [
    "## Define Dataset"
   ]
  },
  {
   "cell_type": "code",
   "execution_count": 16,
   "metadata": {
    "id": "Fjf5EcmJtf4e"
   },
   "outputs": [],
   "source": [
    "import torch\n",
    "from torch.utils.data import Dataset\n",
    "from torch.utils.data import DataLoader\n",
    "\n",
    "class LibriDataset(Dataset):\n",
    "    def __init__(self, X, y=None):\n",
    "        self.data = X\n",
    "        if y is not None:\n",
    "            self.label = torch.LongTensor(y)\n",
    "        else:\n",
    "            self.label = None\n",
    "\n",
    "    def __getitem__(self, idx):\n",
    "        if self.label is not None:\n",
    "            return self.data[idx], self.label[idx]\n",
    "        else:\n",
    "            return self.data[idx]\n",
    "\n",
    "    def __len__(self):\n",
    "        return len(self.data)\n"
   ]
  },
  {
   "cell_type": "markdown",
   "metadata": {
    "id": "IRqKNvNZwe3V"
   },
   "source": [
    "## Define Model"
   ]
  },
  {
   "cell_type": "code",
   "execution_count": 17,
   "metadata": {
    "id": "Bg-GRd7ywdrL"
   },
   "outputs": [],
   "source": [
    "import torch\n",
    "import torch.nn as nn\n",
    "import torch.nn.functional as F\n",
    "\n",
    "class BasicBlock(nn.Module):\n",
    "    def __init__(self, input_dim, output_dim):\n",
    "        super(BasicBlock, self).__init__()\n",
    "\n",
    "        self.block = nn.Sequential(\n",
    "            nn.Linear(input_dim, output_dim),\n",
    "            nn.ReLU(),\n",
    "        )\n",
    "\n",
    "    def forward(self, x):\n",
    "        x = self.block(x)\n",
    "        return x\n",
    "\n",
    "\n",
    "class Classifier(nn.Module):\n",
    "    def __init__(self, input_dim, output_dim=41, hidden_layers=1, hidden_dim=256):\n",
    "        super(Classifier, self).__init__()\n",
    "\n",
    "        self.fc = nn.Sequential(\n",
    "            BasicBlock(input_dim, hidden_dim),\n",
    "            *[BasicBlock(hidden_dim, hidden_dim) for _ in range(hidden_layers)],\n",
    "            nn.Linear(hidden_dim, output_dim)\n",
    "        )\n",
    "\n",
    "    def forward(self, x):\n",
    "        x = self.fc(x)\n",
    "        return x"
   ]
  },
  {
   "cell_type": "markdown",
   "metadata": {
    "id": "BnH3J8TRCWhT"
   },
   "source": []
  },
  {
   "cell_type": "code",
   "execution_count": 18,
   "metadata": {
    "id": "v1JvyNWozbPW"
   },
   "outputs": [
    {
     "name": "stdout",
     "output_type": "stream",
     "text": [
      "Collecting optuna\n",
      "  Downloading optuna-2.10.0-py3-none-any.whl (308 kB)\n",
      "\u001b[2K     \u001b[90m━━━━━━━━━━━━━━━━━━━━━━━━━━━━━━━━━━━━━\u001b[0m \u001b[32m308.2/308.2 KB\u001b[0m \u001b[31m593.4 kB/s\u001b[0m eta \u001b[36m0:00:00\u001b[0ma \u001b[36m0:00:01\u001b[0m\n",
      "\u001b[?25hCollecting alembic\n",
      "  Downloading alembic-1.7.6-py3-none-any.whl (210 kB)\n",
      "\u001b[2K     \u001b[90m━━━━━━━━━━━━━━━━━━━━━━━━━━━━━━━━━━━━━━━\u001b[0m \u001b[32m210.4/210.4 KB\u001b[0m \u001b[31m4.1 MB/s\u001b[0m eta \u001b[36m0:00:00\u001b[0ma \u001b[36m0:00:01\u001b[0m\n",
      "\u001b[?25hRequirement already satisfied: PyYAML in /usr/local/lib/python3.8/dist-packages (from optuna) (5.4.1)\n",
      "Requirement already satisfied: numpy in /usr/local/lib/python3.8/dist-packages (from optuna) (1.19.5)\n",
      "Collecting cmaes>=0.8.2\n",
      "  Downloading cmaes-0.8.2-py3-none-any.whl (15 kB)\n",
      "Collecting cliff\n",
      "  Downloading cliff-3.10.1-py3-none-any.whl (81 kB)\n",
      "\u001b[2K     \u001b[90m━━━━━━━━━━━━━━━━━━━━━━━━━━━━━━━━━━━━━━━━\u001b[0m \u001b[32m81.0/81.0 KB\u001b[0m \u001b[31m5.7 MB/s\u001b[0m eta \u001b[36m0:00:00\u001b[0m\n",
      "\u001b[?25hRequirement already satisfied: scipy!=1.4.0 in /usr/local/lib/python3.8/dist-packages (from optuna) (1.8.0)\n",
      "Requirement already satisfied: packaging>=20.0 in /usr/local/lib/python3.8/dist-packages (from optuna) (21.3)\n",
      "Requirement already satisfied: tqdm in /usr/local/lib/python3.8/dist-packages (from optuna) (4.62.3)\n",
      "Collecting sqlalchemy>=1.1.0\n",
      "  Downloading SQLAlchemy-1.4.32-cp38-cp38-manylinux_2_5_x86_64.manylinux1_x86_64.manylinux_2_17_x86_64.manylinux2014_x86_64.whl (1.6 MB)\n",
      "\u001b[2K     \u001b[90m━━━━━━━━━━━━━━━━━━━━━━━━━━━━━━━━━━━━━━━━\u001b[0m \u001b[32m1.6/1.6 MB\u001b[0m \u001b[31m4.5 MB/s\u001b[0m eta \u001b[36m0:00:00\u001b[0ma \u001b[36m0:00:01\u001b[0m\n",
      "\u001b[?25hCollecting colorlog\n",
      "  Downloading colorlog-6.6.0-py2.py3-none-any.whl (11 kB)\n",
      "Requirement already satisfied: pyparsing!=3.0.5,>=2.0.2 in /usr/local/lib/python3.8/dist-packages (from packaging>=20.0->optuna) (3.0.7)\n",
      "Collecting greenlet!=0.4.17\n",
      "  Downloading greenlet-1.1.2-cp38-cp38-manylinux_2_17_x86_64.manylinux2014_x86_64.whl (156 kB)\n",
      "\u001b[2K     \u001b[90m━━━━━━━━━━━━━━━━━━━━━━━━━━━━━━━━━━━━━━\u001b[0m \u001b[32m156.6/156.6 KB\u001b[0m \u001b[31m18.7 MB/s\u001b[0m eta \u001b[36m0:00:00\u001b[0m\n",
      "\u001b[?25hRequirement already satisfied: importlib-metadata in /usr/local/lib/python3.8/dist-packages (from alembic->optuna) (4.11.1)\n",
      "Requirement already satisfied: importlib-resources in /usr/local/lib/python3.8/dist-packages (from alembic->optuna) (5.4.0)\n",
      "Collecting Mako\n",
      "  Downloading Mako-1.2.0-py3-none-any.whl (78 kB)\n",
      "\u001b[2K     \u001b[90m━━━━━━━━━━━━━━━━━━━━━━━━━━━━━━━━━━━━━━━━\u001b[0m \u001b[32m78.4/78.4 KB\u001b[0m \u001b[31m9.0 MB/s\u001b[0m eta \u001b[36m0:00:00\u001b[0m\n",
      "\u001b[?25hCollecting stevedore>=2.0.1\n",
      "  Downloading stevedore-3.5.0-py3-none-any.whl (49 kB)\n",
      "\u001b[2K     \u001b[90m━━━━━━━━━━━━━━━━━━━━━━━━━━━━━━━━━━━━━━━━\u001b[0m \u001b[32m49.7/49.7 KB\u001b[0m \u001b[31m8.4 MB/s\u001b[0m eta \u001b[36m0:00:00\u001b[0m\n",
      "\u001b[?25hCollecting PrettyTable>=0.7.2\n",
      "  Downloading prettytable-3.2.0-py3-none-any.whl (26 kB)\n",
      "Collecting autopage>=0.4.0\n",
      "  Downloading autopage-0.5.0-py3-none-any.whl (29 kB)\n",
      "Collecting pbr!=2.1.0,>=2.0.0\n",
      "  Downloading pbr-5.8.1-py2.py3-none-any.whl (113 kB)\n",
      "\u001b[2K     \u001b[90m━━━━━━━━━━━━━━━━━━━━━━━━━━━━━━━━━━━━━━\u001b[0m \u001b[32m113.0/113.0 KB\u001b[0m \u001b[31m10.2 MB/s\u001b[0m eta \u001b[36m0:00:00\u001b[0m\n",
      "\u001b[?25hCollecting cmd2>=1.0.0\n",
      "  Downloading cmd2-2.4.0-py3-none-any.whl (150 kB)\n",
      "\u001b[2K     \u001b[90m━━━━━━━━━━━━━━━━━━━━━━━━━━━━━━━━━━━━━━\u001b[0m \u001b[32m150.3/150.3 KB\u001b[0m \u001b[31m25.7 MB/s\u001b[0m eta \u001b[36m0:00:00\u001b[0m\n",
      "\u001b[?25hCollecting pyperclip>=1.6\n",
      "  Downloading pyperclip-1.8.2.tar.gz (20 kB)\n",
      "  Preparing metadata (setup.py) ... \u001b[?25ldone\n",
      "\u001b[?25hRequirement already satisfied: wcwidth>=0.1.7 in /usr/local/lib/python3.8/dist-packages (from cmd2>=1.0.0->cliff->optuna) (0.2.5)\n",
      "Requirement already satisfied: attrs>=16.3.0 in /usr/local/lib/python3.8/dist-packages (from cmd2>=1.0.0->cliff->optuna) (21.4.0)\n",
      "Requirement already satisfied: zipp>=0.5 in /usr/local/lib/python3.8/dist-packages (from importlib-metadata->alembic->optuna) (3.7.0)\n",
      "Requirement already satisfied: MarkupSafe>=0.9.2 in /usr/local/lib/python3.8/dist-packages (from Mako->alembic->optuna) (2.1.0)\n",
      "Building wheels for collected packages: pyperclip\n",
      "  Building wheel for pyperclip (setup.py) ... \u001b[?25ldone\n",
      "\u001b[?25h  Created wheel for pyperclip: filename=pyperclip-1.8.2-py3-none-any.whl size=11137 sha256=717069c4eac91f5eba410a98eede98dcc49bc49a6f89bc4486fcb0af5819ac6f\n",
      "  Stored in directory: /root/.cache/pip/wheels/7f/1a/65/84ff8c386bec21fca6d220ea1f5498a0367883a78dd5ba6122\n",
      "Successfully built pyperclip\n",
      "Installing collected packages: pyperclip, PrettyTable, pbr, Mako, greenlet, colorlog, cmd2, cmaes, autopage, stevedore, sqlalchemy, cliff, alembic, optuna\n",
      "Successfully installed Mako-1.2.0 PrettyTable-3.2.0 alembic-1.7.6 autopage-0.5.0 cliff-3.10.1 cmaes-0.8.2 cmd2-2.4.0 colorlog-6.6.0 greenlet-1.1.2 optuna-2.10.0 pbr-5.8.1 pyperclip-1.8.2 sqlalchemy-1.4.32 stevedore-3.5.0\n",
      "\u001b[33mWARNING: Running pip as the 'root' user can result in broken permissions and conflicting behaviour with the system package manager. It is recommended to use a virtual environment instead: https://pip.pypa.io/warnings/venv\u001b[0m\u001b[33m\n",
      "\u001b[0m"
     ]
    }
   ],
   "source": [
    "!pip install optuna\n",
    "import optuna"
   ]
  },
  {
   "cell_type": "markdown",
   "metadata": {
    "id": "IIUFRgG5yoDn"
   },
   "source": [
    "## Prepare dataset and model"
   ]
  },
  {
   "cell_type": "code",
   "execution_count": 19,
   "metadata": {
    "id": "c1zI3v5jyrDn"
   },
   "outputs": [],
   "source": [
    "import gc\n",
    "\n",
    "def prepare_dataset_model(params):\n",
    "    ### data prarameters\n",
    "    train_ratio = 0.8               # the ratio of data used for training, the rest will be used for validation\n",
    "    num = params['concat_nframes']\n",
    "    batch_size = 512\n",
    "    learning_rate = 0.0001\n",
    "\n",
    "    # preprocess data\n",
    "    train_X, train_y = preprocess_data(split='train', feat_dir='./libriphone/feat', phone_path='./libriphone', concat_nframes=num, train_ratio=train_ratio)\n",
    "    val_X, val_y = preprocess_data(split='val', feat_dir='./libriphone/feat', phone_path='./libriphone', concat_nframes=num, train_ratio=train_ratio)\n",
    "\n",
    "    # get dataset\n",
    "    global train_set, val_set\n",
    "    train_set = LibriDataset(train_X, train_y)\n",
    "    val_set = LibriDataset(val_X, val_y)\n",
    "\n",
    "    # remove raw feature to save memory\n",
    "    del train_X, train_y, val_X, val_y\n",
    "    gc.collect()\n",
    "\n",
    "    # get dataloader\n",
    "    global train_loader, val_loader\n",
    "    train_loader = DataLoader(train_set, batch_size=batch_size, shuffle=True)\n",
    "    val_loader = DataLoader(val_set, batch_size=batch_size, shuffle=False)\n",
    "    \n",
    "    \n",
    "    ### model parameters\n",
    "    input_dim = 39 * num # the input dim of the model, you should not change the value\n",
    "    \n",
    "    global criterion, optimizer\n",
    "    # create model, define a loss function, and optimizer\n",
    "    model = Classifier(input_dim=input_dim, hidden_layers=params['hidden_layers'], hidden_dim=params['hidden_dims']).to(device)\n",
    "    criterion = nn.CrossEntropyLoss() \n",
    "    optimizer = torch.optim.AdamW(model.parameters(), lr=learning_rate)\n",
    "\n",
    "    return model"
   ]
  },
  {
   "cell_type": "code",
   "execution_count": 20,
   "metadata": {
    "colab": {
     "base_uri": "https://localhost:8080/"
    },
    "id": "CfRUEgC0GxUV",
    "outputId": "3bab1081-c8e5-4231-c547-13ca01712a89"
   },
   "outputs": [
    {
     "name": "stdout",
     "output_type": "stream",
     "text": [
      "DEVICE: cuda:0\n"
     ]
    }
   ],
   "source": [
    "device = 'cuda:0' if torch.cuda.is_available() else 'cpu'\n",
    "print(f'DEVICE: {device}')"
   ]
  },
  {
   "cell_type": "code",
   "execution_count": 21,
   "metadata": {
    "id": "88xPiUnm0tAd"
   },
   "outputs": [],
   "source": [
    "import numpy as np\n",
    "\n",
    "#fix seed\n",
    "def same_seeds(seed):\n",
    "    torch.manual_seed(seed)\n",
    "    if torch.cuda.is_available():\n",
    "        torch.cuda.manual_seed(seed)\n",
    "        torch.cuda.manual_seed_all(seed)  \n",
    "    np.random.seed(seed)  \n",
    "    torch.backends.cudnn.benchmark = False\n",
    "    torch.backends.cudnn.deterministic = True"
   ]
  },
  {
   "cell_type": "markdown",
   "metadata": {
    "id": "pwWH1KIqzxEr"
   },
   "source": [
    "## Training"
   ]
  },
  {
   "cell_type": "code",
   "execution_count": 22,
   "metadata": {
    "id": "CdMWsBs7zzNs"
   },
   "outputs": [],
   "source": [
    "def training(params, model):\n",
    "    seed = 0                      # random seed   \n",
    "    # fix random seed\n",
    "    same_seeds(seed)          \n",
    "    num_epoch = 5                   # the number of training epoch          \n",
    "    model_path = './model.ckpt'     # the path where the checkpoint will be saved\n",
    "\n",
    "    best_acc = 0.0\n",
    "    for epoch in range(num_epoch):\n",
    "        train_acc = 0.0\n",
    "        train_loss = 0.0\n",
    "        val_acc = 0.0\n",
    "        val_loss = 0.0\n",
    "        \n",
    "        # training\n",
    "        model.train() # set the model to training mode\n",
    "        for i, batch in enumerate(tqdm(train_loader)):\n",
    "            features, labels = batch\n",
    "            features = features.to(device)\n",
    "            labels = labels.to(device)\n",
    "            \n",
    "            optimizer.zero_grad() \n",
    "            outputs = model(features) \n",
    "            \n",
    "            loss = criterion(outputs, labels)\n",
    "            loss.backward() \n",
    "            optimizer.step() \n",
    "            \n",
    "            _, train_pred = torch.max(outputs, 1) # get the index of the class with the highest probability\n",
    "            train_acc += (train_pred.detach() == labels.detach()).sum().item()\n",
    "            train_loss += loss.item()\n",
    "        \n",
    "        # validation\n",
    "        if len(val_set) > 0:\n",
    "            model.eval() # set the model to evaluation mode\n",
    "            with torch.no_grad():\n",
    "                for i, batch in enumerate(tqdm(val_loader)):\n",
    "                    features, labels = batch\n",
    "                    features = features.to(device)\n",
    "                    labels = labels.to(device)\n",
    "                    outputs = model(features)\n",
    "                    \n",
    "                    loss = criterion(outputs, labels) \n",
    "                    \n",
    "                    _, val_pred = torch.max(outputs, 1) \n",
    "                    val_acc += (val_pred.cpu() == labels.cpu()).sum().item() # get the index of the class with the highest probability\n",
    "                    val_loss += loss.item()\n",
    "\n",
    "                print('[{:03d}/{:03d}] Train Acc: {:3.6f} Loss: {:3.6f} | Val Acc: {:3.6f} loss: {:3.6f}'.format(\n",
    "                    epoch + 1, num_epoch, train_acc/len(train_set), train_loss/len(train_loader), val_acc/len(val_set), val_loss/len(val_loader)\n",
    "                ))\n",
    "\n",
    "                # if the model improves, save a checkpoint at this epoch\n",
    "                if val_acc > best_acc:\n",
    "                    best_acc = val_acc\n",
    "                    torch.save(model.state_dict(), model_path)\n",
    "                    accuracy = best_acc/len(val_set)\n",
    "                    print('saving model with acc {:.3f}'.format(accuracy))\n",
    "        else:\n",
    "            accuracy = train_acc/len(train_set)\n",
    "            print('[{:03d}/{:03d}] Train Acc: {:3.6f} Loss: {:3.6f}'.format(\n",
    "                epoch + 1, num_epoch, accuracy, train_loss/len(train_loader)\n",
    "            ))\n",
    "    return accuracy\n",
    "\n",
    "    # if not validating, save the last epoch\n",
    "    if len(val_set) == 0:\n",
    "        torch.save(model.state_dict(), model_path)\n",
    "        print('saving model at last epoch')\n"
   ]
  },
  {
   "cell_type": "code",
   "execution_count": 23,
   "metadata": {
    "id": "IcyXoRj_0dHm"
   },
   "outputs": [],
   "source": [
    "def objective(trial):\n",
    "\n",
    "    params = { 'concat_nframes': trial.suggest_int('concat_nframes', 25, 35, step=2),\n",
    "           'hidden_layers': trial.suggest_int(\"hidden_layers\", 3, 11),\n",
    "            'hidden_dims':trial.suggest_int(\"hidden_dims\", 256, 2048, step=256)\n",
    "              }\n",
    "\n",
    "    model = prepare_dataset_model(params)\n",
    "    accuracy = training(params, model)\n",
    "\n",
    "    return accuracy"
   ]
  },
  {
   "cell_type": "code",
   "execution_count": 24,
   "metadata": {
    "colab": {
     "base_uri": "https://localhost:8080/"
    },
    "id": "qwCMIfH05G_O",
    "outputId": "5d1e4f76-5c59-427d-ca0c-487f38976a3c"
   },
   "outputs": [
    {
     "name": "stderr",
     "output_type": "stream",
     "text": [
      "\u001b[32m[I 2022-03-11 04:10:20,516]\u001b[0m A new study created in memory with name: no-name-551c2e51-02d6-4289-b926-05c5edb35d1e\u001b[0m\n"
     ]
    },
    {
     "name": "stdout",
     "output_type": "stream",
     "text": [
      "[Dataset] - # phone classes: 41, number of utterances for train: 3428\n"
     ]
    },
    {
     "name": "stderr",
     "output_type": "stream",
     "text": [
      "3428it [00:09, 363.59it/s]\n"
     ]
    },
    {
     "name": "stdout",
     "output_type": "stream",
     "text": [
      "[INFO] train set\n",
      "torch.Size([2116368, 1209])\n",
      "torch.Size([2116368])\n",
      "[Dataset] - # phone classes: 41, number of utterances for val: 858\n"
     ]
    },
    {
     "name": "stderr",
     "output_type": "stream",
     "text": [
      "858it [00:02, 364.65it/s]\n"
     ]
    },
    {
     "name": "stdout",
     "output_type": "stream",
     "text": [
      "[INFO] val set\n",
      "torch.Size([527790, 1209])\n",
      "torch.Size([527790])\n"
     ]
    },
    {
     "name": "stderr",
     "output_type": "stream",
     "text": [
      "100%|██████████| 4134/4134 [00:36<00:00, 114.75it/s]\n",
      "100%|██████████| 1031/1031 [00:04<00:00, 225.99it/s]\n"
     ]
    },
    {
     "name": "stdout",
     "output_type": "stream",
     "text": [
      "[001/005] Train Acc: 0.475085 Loss: 1.819800 | Val Acc: 0.572904 loss: 1.489692\n",
      "saving model with acc 0.573\n"
     ]
    },
    {
     "name": "stderr",
     "output_type": "stream",
     "text": [
      "100%|██████████| 4134/4134 [00:33<00:00, 121.80it/s]\n",
      "100%|██████████| 1031/1031 [00:04<00:00, 250.83it/s]\n"
     ]
    },
    {
     "name": "stdout",
     "output_type": "stream",
     "text": [
      "[002/005] Train Acc: 0.626714 Loss: 1.305182 | Val Acc: 0.630283 loss: 1.304012\n",
      "saving model with acc 0.630\n"
     ]
    },
    {
     "name": "stderr",
     "output_type": "stream",
     "text": [
      "100%|██████████| 4134/4134 [00:32<00:00, 128.71it/s]\n",
      "100%|██████████| 1031/1031 [00:03<00:00, 275.46it/s]\n"
     ]
    },
    {
     "name": "stdout",
     "output_type": "stream",
     "text": [
      "[003/005] Train Acc: 0.673081 Loss: 1.146503 | Val Acc: 0.654228 loss: 1.210924\n",
      "saving model with acc 0.654\n"
     ]
    },
    {
     "name": "stderr",
     "output_type": "stream",
     "text": [
      "100%|██████████| 4134/4134 [00:34<00:00, 118.66it/s]\n",
      "100%|██████████| 1031/1031 [00:04<00:00, 251.26it/s]\n"
     ]
    },
    {
     "name": "stdout",
     "output_type": "stream",
     "text": [
      "[004/005] Train Acc: 0.702733 Loss: 1.034599 | Val Acc: 0.664355 loss: 1.179404\n",
      "saving model with acc 0.664\n"
     ]
    },
    {
     "name": "stderr",
     "output_type": "stream",
     "text": [
      "100%|██████████| 4134/4134 [00:33<00:00, 122.38it/s]\n",
      "100%|██████████| 1031/1031 [00:03<00:00, 258.61it/s]\n",
      "\u001b[32m[I 2022-03-11 04:13:48,070]\u001b[0m Trial 0 finished with value: 0.6763220220163323 and parameters: {'concat_nframes': 31, 'hidden_layers': 10, 'hidden_dims': 512}. Best is trial 0 with value: 0.6763220220163323.\u001b[0m\n"
     ]
    },
    {
     "name": "stdout",
     "output_type": "stream",
     "text": [
      "[005/005] Train Acc: 0.725011 Loss: 0.952748 | Val Acc: 0.676322 loss: 1.145867\n",
      "saving model with acc 0.676\n",
      "[Dataset] - # phone classes: 41, number of utterances for train: 3428\n"
     ]
    },
    {
     "name": "stderr",
     "output_type": "stream",
     "text": [
      "3428it [00:06, 503.97it/s]\n"
     ]
    },
    {
     "name": "stdout",
     "output_type": "stream",
     "text": [
      "[INFO] train set\n",
      "torch.Size([2116368, 975])\n",
      "torch.Size([2116368])\n",
      "[Dataset] - # phone classes: 41, number of utterances for val: 858\n"
     ]
    },
    {
     "name": "stderr",
     "output_type": "stream",
     "text": [
      "858it [00:01, 508.69it/s]\n"
     ]
    },
    {
     "name": "stdout",
     "output_type": "stream",
     "text": [
      "[INFO] val set\n",
      "torch.Size([527790, 975])\n",
      "torch.Size([527790])\n"
     ]
    },
    {
     "name": "stderr",
     "output_type": "stream",
     "text": [
      "100%|██████████| 4134/4134 [00:37<00:00, 110.46it/s]\n",
      "100%|██████████| 1031/1031 [00:03<00:00, 261.76it/s]\n"
     ]
    },
    {
     "name": "stdout",
     "output_type": "stream",
     "text": [
      "[001/005] Train Acc: 0.527467 Loss: 1.647343 | Val Acc: 0.624688 loss: 1.319839\n",
      "saving model with acc 0.625\n"
     ]
    },
    {
     "name": "stderr",
     "output_type": "stream",
     "text": [
      "100%|██████████| 4134/4134 [00:35<00:00, 115.93it/s]\n",
      "100%|██████████| 1031/1031 [00:04<00:00, 218.04it/s]\n"
     ]
    },
    {
     "name": "stdout",
     "output_type": "stream",
     "text": [
      "[002/005] Train Acc: 0.677039 Loss: 1.134189 | Val Acc: 0.662114 loss: 1.191160\n",
      "saving model with acc 0.662\n"
     ]
    },
    {
     "name": "stderr",
     "output_type": "stream",
     "text": [
      "100%|██████████| 4134/4134 [00:34<00:00, 121.47it/s]\n",
      "100%|██████████| 1031/1031 [00:03<00:00, 261.97it/s]\n"
     ]
    },
    {
     "name": "stdout",
     "output_type": "stream",
     "text": [
      "[003/005] Train Acc: 0.721693 Loss: 0.971821 | Val Acc: 0.681593 loss: 1.133076\n",
      "saving model with acc 0.682\n"
     ]
    },
    {
     "name": "stderr",
     "output_type": "stream",
     "text": [
      "100%|██████████| 4134/4134 [00:33<00:00, 123.70it/s]\n",
      "100%|██████████| 1031/1031 [00:04<00:00, 242.21it/s]\n"
     ]
    },
    {
     "name": "stdout",
     "output_type": "stream",
     "text": [
      "[004/005] Train Acc: 0.754915 Loss: 0.849502 | Val Acc: 0.688619 loss: 1.121604\n",
      "saving model with acc 0.689\n"
     ]
    },
    {
     "name": "stderr",
     "output_type": "stream",
     "text": [
      "100%|██████████| 4134/4134 [00:33<00:00, 121.67it/s]\n",
      "100%|██████████| 1031/1031 [00:03<00:00, 259.24it/s]\n",
      "\u001b[32m[I 2022-03-11 04:17:13,947]\u001b[0m Trial 1 finished with value: 0.6922412323083045 and parameters: {'concat_nframes': 25, 'hidden_layers': 10, 'hidden_dims': 1024}. Best is trial 1 with value: 0.6922412323083045.\u001b[0m\n"
     ]
    },
    {
     "name": "stdout",
     "output_type": "stream",
     "text": [
      "[005/005] Train Acc: 0.783579 Loss: 0.744749 | Val Acc: 0.692241 loss: 1.128514\n",
      "saving model with acc 0.692\n",
      "[Dataset] - # phone classes: 41, number of utterances for train: 3428\n"
     ]
    },
    {
     "name": "stderr",
     "output_type": "stream",
     "text": [
      "3428it [00:07, 438.03it/s]\n"
     ]
    },
    {
     "name": "stdout",
     "output_type": "stream",
     "text": [
      "[INFO] train set\n",
      "torch.Size([2116368, 1053])\n",
      "torch.Size([2116368])\n",
      "[Dataset] - # phone classes: 41, number of utterances for val: 858\n"
     ]
    },
    {
     "name": "stderr",
     "output_type": "stream",
     "text": [
      "858it [00:02, 420.54it/s]\n"
     ]
    },
    {
     "name": "stdout",
     "output_type": "stream",
     "text": [
      "[INFO] val set\n",
      "torch.Size([527790, 1053])\n",
      "torch.Size([527790])\n"
     ]
    },
    {
     "name": "stderr",
     "output_type": "stream",
     "text": [
      "100%|██████████| 4134/4134 [00:45<00:00, 90.70it/s]\n",
      "100%|██████████| 1031/1031 [00:05<00:00, 199.40it/s]\n"
     ]
    },
    {
     "name": "stdout",
     "output_type": "stream",
     "text": [
      "[001/005] Train Acc: 0.539229 Loss: 1.616827 | Val Acc: 0.644531 loss: 1.270032\n",
      "saving model with acc 0.645\n"
     ]
    },
    {
     "name": "stderr",
     "output_type": "stream",
     "text": [
      "100%|██████████| 4134/4134 [00:43<00:00, 94.44it/s] \n",
      "100%|██████████| 1031/1031 [00:04<00:00, 223.37it/s]\n"
     ]
    },
    {
     "name": "stdout",
     "output_type": "stream",
     "text": [
      "[002/005] Train Acc: 0.696063 Loss: 1.080482 | Val Acc: 0.681377 loss: 1.141931\n",
      "saving model with acc 0.681\n"
     ]
    },
    {
     "name": "stderr",
     "output_type": "stream",
     "text": [
      "100%|██████████| 4134/4134 [00:43<00:00, 95.43it/s] \n",
      "100%|██████████| 1031/1031 [00:04<00:00, 229.96it/s]\n"
     ]
    },
    {
     "name": "stdout",
     "output_type": "stream",
     "text": [
      "[003/005] Train Acc: 0.755329 Loss: 0.853529 | Val Acc: 0.700561 loss: 1.077531\n",
      "saving model with acc 0.701\n"
     ]
    },
    {
     "name": "stderr",
     "output_type": "stream",
     "text": [
      "100%|██████████| 4134/4134 [00:43<00:00, 95.93it/s] \n",
      "100%|██████████| 1031/1031 [00:04<00:00, 239.23it/s]\n"
     ]
    },
    {
     "name": "stdout",
     "output_type": "stream",
     "text": [
      "[004/005] Train Acc: 0.807101 Loss: 0.653844 | Val Acc: 0.702776 loss: 1.101050\n",
      "saving model with acc 0.703\n"
     ]
    },
    {
     "name": "stderr",
     "output_type": "stream",
     "text": [
      "100%|██████████| 4134/4134 [00:42<00:00, 96.86it/s] \n",
      "100%|██████████| 1031/1031 [00:04<00:00, 227.25it/s]\n",
      "\u001b[32m[I 2022-03-11 04:21:28,847]\u001b[0m Trial 2 finished with value: 0.7027757251937323 and parameters: {'concat_nframes': 27, 'hidden_layers': 11, 'hidden_dims': 2048}. Best is trial 2 with value: 0.7027757251937323.\u001b[0m\n"
     ]
    },
    {
     "name": "stdout",
     "output_type": "stream",
     "text": [
      "[005/005] Train Acc: 0.849353 Loss: 0.500935 | Val Acc: 0.702601 loss: 1.208234\n",
      "[Dataset] - # phone classes: 41, number of utterances for train: 3428\n"
     ]
    },
    {
     "name": "stderr",
     "output_type": "stream",
     "text": [
      "3428it [00:09, 358.97it/s]\n"
     ]
    },
    {
     "name": "stdout",
     "output_type": "stream",
     "text": [
      "[INFO] train set\n",
      "torch.Size([2116368, 1365])\n",
      "torch.Size([2116368])\n",
      "[Dataset] - # phone classes: 41, number of utterances for val: 858\n"
     ]
    },
    {
     "name": "stderr",
     "output_type": "stream",
     "text": [
      "858it [00:02, 361.71it/s]\n"
     ]
    },
    {
     "name": "stdout",
     "output_type": "stream",
     "text": [
      "[INFO] val set\n",
      "torch.Size([527790, 1365])\n",
      "torch.Size([527790])\n"
     ]
    },
    {
     "name": "stderr",
     "output_type": "stream",
     "text": [
      "100%|██████████| 4134/4134 [00:38<00:00, 107.55it/s]\n",
      "100%|██████████| 1031/1031 [00:05<00:00, 202.87it/s]\n"
     ]
    },
    {
     "name": "stdout",
     "output_type": "stream",
     "text": [
      "[001/005] Train Acc: 0.514909 Loss: 1.689993 | Val Acc: 0.612115 loss: 1.371306\n",
      "saving model with acc 0.612\n"
     ]
    },
    {
     "name": "stderr",
     "output_type": "stream",
     "text": [
      "100%|██████████| 4134/4134 [00:36<00:00, 113.69it/s]\n",
      "100%|██████████| 1031/1031 [00:04<00:00, 247.71it/s]\n"
     ]
    },
    {
     "name": "stdout",
     "output_type": "stream",
     "text": [
      "[002/005] Train Acc: 0.664070 Loss: 1.178307 | Val Acc: 0.658411 loss: 1.203508\n",
      "saving model with acc 0.658\n"
     ]
    },
    {
     "name": "stderr",
     "output_type": "stream",
     "text": [
      "100%|██████████| 4134/4134 [00:32<00:00, 126.68it/s]\n",
      "100%|██████████| 1031/1031 [00:04<00:00, 251.07it/s]\n"
     ]
    },
    {
     "name": "stdout",
     "output_type": "stream",
     "text": [
      "[003/005] Train Acc: 0.714060 Loss: 0.990149 | Val Acc: 0.677868 loss: 1.131947\n",
      "saving model with acc 0.678\n"
     ]
    },
    {
     "name": "stderr",
     "output_type": "stream",
     "text": [
      "100%|██████████| 4134/4134 [00:34<00:00, 120.66it/s]\n",
      "100%|██████████| 1031/1031 [00:03<00:00, 261.40it/s]\n"
     ]
    },
    {
     "name": "stdout",
     "output_type": "stream",
     "text": [
      "[004/005] Train Acc: 0.748861 Loss: 0.865691 | Val Acc: 0.683427 loss: 1.132846\n",
      "saving model with acc 0.683\n"
     ]
    },
    {
     "name": "stderr",
     "output_type": "stream",
     "text": [
      "100%|██████████| 4134/4134 [00:31<00:00, 129.94it/s]\n",
      "100%|██████████| 1031/1031 [00:04<00:00, 237.62it/s]\n",
      "\u001b[32m[I 2022-03-11 04:24:57,686]\u001b[0m Trial 3 finished with value: 0.6864339983705641 and parameters: {'concat_nframes': 35, 'hidden_layers': 10, 'hidden_dims': 768}. Best is trial 2 with value: 0.7027757251937323.\u001b[0m\n"
     ]
    },
    {
     "name": "stdout",
     "output_type": "stream",
     "text": [
      "[005/005] Train Acc: 0.776335 Loss: 0.767325 | Val Acc: 0.686434 loss: 1.145901\n",
      "saving model with acc 0.686\n",
      "[Dataset] - # phone classes: 41, number of utterances for train: 3428\n"
     ]
    },
    {
     "name": "stderr",
     "output_type": "stream",
     "text": [
      "3428it [00:09, 370.53it/s]\n"
     ]
    },
    {
     "name": "stdout",
     "output_type": "stream",
     "text": [
      "[INFO] train set\n",
      "torch.Size([2116368, 1365])\n",
      "torch.Size([2116368])\n",
      "[Dataset] - # phone classes: 41, number of utterances for val: 858\n"
     ]
    },
    {
     "name": "stderr",
     "output_type": "stream",
     "text": [
      "858it [00:02, 335.40it/s]\n"
     ]
    },
    {
     "name": "stdout",
     "output_type": "stream",
     "text": [
      "[INFO] val set\n",
      "torch.Size([527790, 1365])\n",
      "torch.Size([527790])\n"
     ]
    },
    {
     "name": "stderr",
     "output_type": "stream",
     "text": [
      "100%|██████████| 4134/4134 [00:34<00:00, 121.57it/s]\n",
      "100%|██████████| 1031/1031 [00:04<00:00, 213.64it/s]\n"
     ]
    },
    {
     "name": "stdout",
     "output_type": "stream",
     "text": [
      "[001/005] Train Acc: 0.557824 Loss: 1.477666 | Val Acc: 0.627990 loss: 1.217640\n",
      "saving model with acc 0.628\n"
     ]
    },
    {
     "name": "stderr",
     "output_type": "stream",
     "text": [
      "100%|██████████| 4134/4134 [00:27<00:00, 151.10it/s]\n",
      "100%|██████████| 1031/1031 [00:03<00:00, 277.33it/s]\n"
     ]
    },
    {
     "name": "stdout",
     "output_type": "stream",
     "text": [
      "[002/005] Train Acc: 0.672009 Loss: 1.065324 | Val Acc: 0.663569 loss: 1.099767\n",
      "saving model with acc 0.664\n"
     ]
    },
    {
     "name": "stderr",
     "output_type": "stream",
     "text": [
      "100%|██████████| 4134/4134 [00:28<00:00, 145.02it/s]\n",
      "100%|██████████| 1031/1031 [00:04<00:00, 248.58it/s]\n"
     ]
    },
    {
     "name": "stdout",
     "output_type": "stream",
     "text": [
      "[003/005] Train Acc: 0.712263 Loss: 0.925917 | Val Acc: 0.683018 loss: 1.033270\n",
      "saving model with acc 0.683\n"
     ]
    },
    {
     "name": "stderr",
     "output_type": "stream",
     "text": [
      "100%|██████████| 4134/4134 [00:30<00:00, 136.98it/s]\n",
      "100%|██████████| 1031/1031 [00:03<00:00, 275.42it/s]\n"
     ]
    },
    {
     "name": "stdout",
     "output_type": "stream",
     "text": [
      "[004/005] Train Acc: 0.741263 Loss: 0.825423 | Val Acc: 0.687779 loss: 1.023961\n",
      "saving model with acc 0.688\n"
     ]
    },
    {
     "name": "stderr",
     "output_type": "stream",
     "text": [
      "100%|██████████| 4134/4134 [00:28<00:00, 146.22it/s]\n",
      "100%|██████████| 1031/1031 [00:04<00:00, 252.95it/s]\n",
      "\u001b[32m[I 2022-03-11 04:28:00,218]\u001b[0m Trial 4 finished with value: 0.6946474923738608 and parameters: {'concat_nframes': 35, 'hidden_layers': 6, 'hidden_dims': 768}. Best is trial 2 with value: 0.7027757251937323.\u001b[0m\n"
     ]
    },
    {
     "name": "stdout",
     "output_type": "stream",
     "text": [
      "[005/005] Train Acc: 0.765253 Loss: 0.742811 | Val Acc: 0.694647 loss: 1.015108\n",
      "saving model with acc 0.695\n",
      "[Dataset] - # phone classes: 41, number of utterances for train: 3428\n"
     ]
    },
    {
     "name": "stderr",
     "output_type": "stream",
     "text": [
      "3428it [00:07, 460.59it/s]\n"
     ]
    },
    {
     "name": "stdout",
     "output_type": "stream",
     "text": [
      "[INFO] train set\n",
      "torch.Size([2116368, 1053])\n",
      "torch.Size([2116368])\n",
      "[Dataset] - # phone classes: 41, number of utterances for val: 858\n"
     ]
    },
    {
     "name": "stderr",
     "output_type": "stream",
     "text": [
      "858it [00:02, 391.29it/s]\n"
     ]
    },
    {
     "name": "stdout",
     "output_type": "stream",
     "text": [
      "[INFO] val set\n",
      "torch.Size([527790, 1053])\n",
      "torch.Size([527790])\n"
     ]
    },
    {
     "name": "stderr",
     "output_type": "stream",
     "text": [
      "100%|██████████| 4134/4134 [00:26<00:00, 154.96it/s]\n",
      "100%|██████████| 1031/1031 [00:04<00:00, 248.96it/s]\n"
     ]
    },
    {
     "name": "stdout",
     "output_type": "stream",
     "text": [
      "[001/005] Train Acc: 0.600155 Loss: 1.328086 | Val Acc: 0.663993 loss: 1.099395\n",
      "saving model with acc 0.664\n"
     ]
    },
    {
     "name": "stderr",
     "output_type": "stream",
     "text": [
      "100%|██████████| 4134/4134 [00:27<00:00, 148.08it/s]\n",
      "100%|██████████| 1031/1031 [00:03<00:00, 274.99it/s]\n"
     ]
    },
    {
     "name": "stdout",
     "output_type": "stream",
     "text": [
      "[002/005] Train Acc: 0.715259 Loss: 0.915818 | Val Acc: 0.692353 loss: 1.001690\n",
      "saving model with acc 0.692\n"
     ]
    },
    {
     "name": "stderr",
     "output_type": "stream",
     "text": [
      "100%|██████████| 4134/4134 [00:28<00:00, 147.42it/s]\n",
      "100%|██████████| 1031/1031 [00:04<00:00, 225.40it/s]\n"
     ]
    },
    {
     "name": "stdout",
     "output_type": "stream",
     "text": [
      "[003/005] Train Acc: 0.767098 Loss: 0.737961 | Val Acc: 0.703047 loss: 0.992901\n",
      "saving model with acc 0.703\n"
     ]
    },
    {
     "name": "stderr",
     "output_type": "stream",
     "text": [
      "100%|██████████| 4134/4134 [00:31<00:00, 133.33it/s]\n",
      "100%|██████████| 1031/1031 [00:03<00:00, 276.31it/s]\n"
     ]
    },
    {
     "name": "stdout",
     "output_type": "stream",
     "text": [
      "[004/005] Train Acc: 0.810628 Loss: 0.590552 | Val Acc: 0.701936 loss: 1.039410\n"
     ]
    },
    {
     "name": "stderr",
     "output_type": "stream",
     "text": [
      "100%|██████████| 4134/4134 [00:29<00:00, 141.95it/s]\n",
      "100%|██████████| 1031/1031 [00:04<00:00, 253.11it/s]\n",
      "\u001b[32m[I 2022-03-11 04:30:54,888]\u001b[0m Trial 5 finished with value: 0.703046666287728 and parameters: {'concat_nframes': 27, 'hidden_layers': 6, 'hidden_dims': 1536}. Best is trial 5 with value: 0.703046666287728.\u001b[0m\n"
     ]
    },
    {
     "name": "stdout",
     "output_type": "stream",
     "text": [
      "[005/005] Train Acc: 0.848578 Loss: 0.464744 | Val Acc: 0.700125 loss: 1.159308\n",
      "[Dataset] - # phone classes: 41, number of utterances for train: 3428\n"
     ]
    },
    {
     "name": "stderr",
     "output_type": "stream",
     "text": [
      "3428it [00:08, 381.90it/s]\n"
     ]
    },
    {
     "name": "stdout",
     "output_type": "stream",
     "text": [
      "[INFO] train set\n",
      "torch.Size([2116368, 1287])\n",
      "torch.Size([2116368])\n",
      "[Dataset] - # phone classes: 41, number of utterances for val: 858\n"
     ]
    },
    {
     "name": "stderr",
     "output_type": "stream",
     "text": [
      "858it [00:02, 422.57it/s]\n"
     ]
    },
    {
     "name": "stdout",
     "output_type": "stream",
     "text": [
      "[INFO] val set\n",
      "torch.Size([527790, 1287])\n",
      "torch.Size([527790])\n"
     ]
    },
    {
     "name": "stderr",
     "output_type": "stream",
     "text": [
      "100%|██████████| 4134/4134 [00:37<00:00, 111.55it/s]\n",
      "100%|██████████| 1031/1031 [00:04<00:00, 222.33it/s]\n"
     ]
    },
    {
     "name": "stdout",
     "output_type": "stream",
     "text": [
      "[001/005] Train Acc: 0.507855 Loss: 1.726831 | Val Acc: 0.598774 loss: 1.439044\n",
      "saving model with acc 0.599\n"
     ]
    },
    {
     "name": "stderr",
     "output_type": "stream",
     "text": [
      "100%|██████████| 4134/4134 [00:39<00:00, 105.71it/s]\n",
      "100%|██████████| 1031/1031 [00:05<00:00, 200.94it/s]\n"
     ]
    },
    {
     "name": "stdout",
     "output_type": "stream",
     "text": [
      "[002/005] Train Acc: 0.660495 Loss: 1.213733 | Val Acc: 0.656350 loss: 1.233556\n",
      "saving model with acc 0.656\n"
     ]
    },
    {
     "name": "stderr",
     "output_type": "stream",
     "text": [
      "100%|██████████| 4134/4134 [00:39<00:00, 105.48it/s]\n",
      "100%|██████████| 1031/1031 [00:04<00:00, 251.16it/s]\n"
     ]
    },
    {
     "name": "stdout",
     "output_type": "stream",
     "text": [
      "[003/005] Train Acc: 0.709505 Loss: 1.033648 | Val Acc: 0.674869 loss: 1.168664\n",
      "saving model with acc 0.675\n"
     ]
    },
    {
     "name": "stderr",
     "output_type": "stream",
     "text": [
      "100%|██████████| 4134/4134 [00:34<00:00, 119.13it/s]\n",
      "100%|██████████| 1031/1031 [00:04<00:00, 226.29it/s]\n"
     ]
    },
    {
     "name": "stdout",
     "output_type": "stream",
     "text": [
      "[004/005] Train Acc: 0.740721 Loss: 0.921801 | Val Acc: 0.683268 loss: 1.148679\n",
      "saving model with acc 0.683\n"
     ]
    },
    {
     "name": "stderr",
     "output_type": "stream",
     "text": [
      "100%|██████████| 4134/4134 [00:35<00:00, 115.62it/s]\n",
      "100%|██████████| 1031/1031 [00:04<00:00, 246.74it/s]\n",
      "\u001b[32m[I 2022-03-11 04:34:36,323]\u001b[0m Trial 6 finished with value: 0.690956630478031 and parameters: {'concat_nframes': 33, 'hidden_layers': 11, 'hidden_dims': 1024}. Best is trial 5 with value: 0.703046666287728.\u001b[0m\n"
     ]
    },
    {
     "name": "stdout",
     "output_type": "stream",
     "text": [
      "[005/005] Train Acc: 0.766060 Loss: 0.826169 | Val Acc: 0.690957 loss: 1.137898\n",
      "saving model with acc 0.691\n",
      "[Dataset] - # phone classes: 41, number of utterances for train: 3428\n"
     ]
    },
    {
     "name": "stderr",
     "output_type": "stream",
     "text": [
      "3428it [00:07, 428.66it/s]\n"
     ]
    },
    {
     "name": "stdout",
     "output_type": "stream",
     "text": [
      "[INFO] train set\n",
      "torch.Size([2116368, 975])\n",
      "torch.Size([2116368])\n",
      "[Dataset] - # phone classes: 41, number of utterances for val: 858\n"
     ]
    },
    {
     "name": "stderr",
     "output_type": "stream",
     "text": [
      "858it [00:01, 494.85it/s]\n"
     ]
    },
    {
     "name": "stdout",
     "output_type": "stream",
     "text": [
      "[INFO] val set\n",
      "torch.Size([527790, 975])\n",
      "torch.Size([527790])\n"
     ]
    },
    {
     "name": "stderr",
     "output_type": "stream",
     "text": [
      "100%|██████████| 4134/4134 [00:28<00:00, 144.23it/s]\n",
      "100%|██████████| 1031/1031 [00:04<00:00, 255.83it/s]\n"
     ]
    },
    {
     "name": "stdout",
     "output_type": "stream",
     "text": [
      "[001/005] Train Acc: 0.614356 Loss: 1.267073 | Val Acc: 0.672135 loss: 1.054768\n",
      "saving model with acc 0.672\n"
     ]
    },
    {
     "name": "stderr",
     "output_type": "stream",
     "text": [
      "100%|██████████| 4134/4134 [00:29<00:00, 140.93it/s]\n",
      "100%|██████████| 1031/1031 [00:03<00:00, 271.90it/s]\n"
     ]
    },
    {
     "name": "stdout",
     "output_type": "stream",
     "text": [
      "[002/005] Train Acc: 0.719772 Loss: 0.887466 | Val Acc: 0.698926 loss: 0.961650\n",
      "saving model with acc 0.699\n"
     ]
    },
    {
     "name": "stderr",
     "output_type": "stream",
     "text": [
      "100%|██████████| 4134/4134 [00:27<00:00, 151.71it/s]\n",
      "100%|██████████| 1031/1031 [00:04<00:00, 230.97it/s]\n"
     ]
    },
    {
     "name": "stdout",
     "output_type": "stream",
     "text": [
      "[003/005] Train Acc: 0.770051 Loss: 0.716601 | Val Acc: 0.711578 loss: 0.942634\n",
      "saving model with acc 0.712\n"
     ]
    },
    {
     "name": "stderr",
     "output_type": "stream",
     "text": [
      "100%|██████████| 4134/4134 [00:29<00:00, 139.75it/s]\n",
      "100%|██████████| 1031/1031 [00:03<00:00, 275.64it/s]\n"
     ]
    },
    {
     "name": "stdout",
     "output_type": "stream",
     "text": [
      "[004/005] Train Acc: 0.815180 Loss: 0.566777 | Val Acc: 0.711810 loss: 0.991625\n",
      "saving model with acc 0.712\n"
     ]
    },
    {
     "name": "stderr",
     "output_type": "stream",
     "text": [
      "100%|██████████| 4134/4134 [00:27<00:00, 152.65it/s]\n",
      "100%|██████████| 1031/1031 [00:03<00:00, 262.61it/s]\n",
      "\u001b[32m[I 2022-03-11 04:37:30,167]\u001b[0m Trial 7 finished with value: 0.7118096212508763 and parameters: {'concat_nframes': 25, 'hidden_layers': 5, 'hidden_dims': 1792}. Best is trial 7 with value: 0.7118096212508763.\u001b[0m\n"
     ]
    },
    {
     "name": "stdout",
     "output_type": "stream",
     "text": [
      "[005/005] Train Acc: 0.856685 Loss: 0.432485 | Val Acc: 0.705718 loss: 1.137823\n",
      "[Dataset] - # phone classes: 41, number of utterances for train: 3428\n"
     ]
    },
    {
     "name": "stderr",
     "output_type": "stream",
     "text": [
      "3428it [00:08, 415.28it/s]\n"
     ]
    },
    {
     "name": "stdout",
     "output_type": "stream",
     "text": [
      "[INFO] train set\n",
      "torch.Size([2116368, 1131])\n",
      "torch.Size([2116368])\n",
      "[Dataset] - # phone classes: 41, number of utterances for val: 858\n"
     ]
    },
    {
     "name": "stderr",
     "output_type": "stream",
     "text": [
      "858it [00:02, 416.19it/s]\n"
     ]
    },
    {
     "name": "stdout",
     "output_type": "stream",
     "text": [
      "[INFO] val set\n",
      "torch.Size([527790, 1131])\n",
      "torch.Size([527790])\n"
     ]
    },
    {
     "name": "stderr",
     "output_type": "stream",
     "text": [
      "100%|██████████| 4134/4134 [00:41<00:00, 99.40it/s] \n",
      "100%|██████████| 1031/1031 [00:04<00:00, 223.02it/s]\n"
     ]
    },
    {
     "name": "stdout",
     "output_type": "stream",
     "text": [
      "[001/005] Train Acc: 0.410396 Loss: 2.040611 | Val Acc: 0.480856 loss: 1.784946\n",
      "saving model with acc 0.481\n"
     ]
    },
    {
     "name": "stderr",
     "output_type": "stream",
     "text": [
      "100%|██████████| 4134/4134 [00:38<00:00, 108.64it/s]\n",
      "100%|██████████| 1031/1031 [00:04<00:00, 246.56it/s]\n"
     ]
    },
    {
     "name": "stdout",
     "output_type": "stream",
     "text": [
      "[002/005] Train Acc: 0.532980 Loss: 1.620759 | Val Acc: 0.556644 loss: 1.546416\n",
      "saving model with acc 0.557\n"
     ]
    },
    {
     "name": "stderr",
     "output_type": "stream",
     "text": [
      "100%|██████████| 4134/4134 [00:38<00:00, 107.69it/s]\n",
      "100%|██████████| 1031/1031 [00:04<00:00, 245.40it/s]\n"
     ]
    },
    {
     "name": "stdout",
     "output_type": "stream",
     "text": [
      "[003/005] Train Acc: 0.594331 Loss: 1.409049 | Val Acc: 0.600311 loss: 1.392167\n",
      "saving model with acc 0.600\n"
     ]
    },
    {
     "name": "stderr",
     "output_type": "stream",
     "text": [
      "100%|██████████| 4134/4134 [00:40<00:00, 103.31it/s]\n",
      "100%|██████████| 1031/1031 [00:04<00:00, 240.55it/s]\n"
     ]
    },
    {
     "name": "stdout",
     "output_type": "stream",
     "text": [
      "[004/005] Train Acc: 0.627475 Loss: 1.291778 | Val Acc: 0.619993 loss: 1.322750\n",
      "saving model with acc 0.620\n"
     ]
    },
    {
     "name": "stderr",
     "output_type": "stream",
     "text": [
      "100%|██████████| 4134/4134 [00:39<00:00, 103.74it/s]\n",
      "100%|██████████| 1031/1031 [00:04<00:00, 245.85it/s]\n",
      "\u001b[32m[I 2022-03-11 04:41:21,218]\u001b[0m Trial 8 finished with value: 0.6300896189772447 and parameters: {'concat_nframes': 29, 'hidden_layers': 11, 'hidden_dims': 256}. Best is trial 7 with value: 0.7118096212508763.\u001b[0m\n"
     ]
    },
    {
     "name": "stdout",
     "output_type": "stream",
     "text": [
      "[005/005] Train Acc: 0.648409 Loss: 1.221130 | Val Acc: 0.630090 loss: 1.287632\n",
      "saving model with acc 0.630\n",
      "[Dataset] - # phone classes: 41, number of utterances for train: 3428\n"
     ]
    },
    {
     "name": "stderr",
     "output_type": "stream",
     "text": [
      "3428it [00:07, 460.95it/s]\n"
     ]
    },
    {
     "name": "stdout",
     "output_type": "stream",
     "text": [
      "[INFO] train set\n",
      "torch.Size([2116368, 1053])\n",
      "torch.Size([2116368])\n",
      "[Dataset] - # phone classes: 41, number of utterances for val: 858\n"
     ]
    },
    {
     "name": "stderr",
     "output_type": "stream",
     "text": [
      "858it [00:01, 497.29it/s]\n"
     ]
    },
    {
     "name": "stdout",
     "output_type": "stream",
     "text": [
      "[INFO] val set\n",
      "torch.Size([527790, 1053])\n",
      "torch.Size([527790])\n"
     ]
    },
    {
     "name": "stderr",
     "output_type": "stream",
     "text": [
      "100%|██████████| 4134/4134 [00:33<00:00, 123.83it/s]\n",
      "100%|██████████| 1031/1031 [00:04<00:00, 221.37it/s]\n"
     ]
    },
    {
     "name": "stdout",
     "output_type": "stream",
     "text": [
      "[001/005] Train Acc: 0.590720 Loss: 1.362933 | Val Acc: 0.655532 loss: 1.127313\n",
      "saving model with acc 0.656\n"
     ]
    },
    {
     "name": "stderr",
     "output_type": "stream",
     "text": [
      "100%|██████████| 4134/4134 [00:31<00:00, 132.37it/s]\n",
      "100%|██████████| 1031/1031 [00:04<00:00, 254.82it/s]\n"
     ]
    },
    {
     "name": "stdout",
     "output_type": "stream",
     "text": [
      "[002/005] Train Acc: 0.703490 Loss: 0.956298 | Val Acc: 0.687622 loss: 1.017051\n",
      "saving model with acc 0.688\n"
     ]
    },
    {
     "name": "stderr",
     "output_type": "stream",
     "text": [
      "100%|██████████| 4134/4134 [00:30<00:00, 134.41it/s]\n",
      "100%|██████████| 1031/1031 [00:04<00:00, 252.80it/s]\n"
     ]
    },
    {
     "name": "stdout",
     "output_type": "stream",
     "text": [
      "[003/005] Train Acc: 0.750291 Loss: 0.794172 | Val Acc: 0.699096 loss: 0.990261\n",
      "saving model with acc 0.699\n"
     ]
    },
    {
     "name": "stderr",
     "output_type": "stream",
     "text": [
      "100%|██████████| 4134/4134 [00:29<00:00, 137.82it/s]\n",
      "100%|██████████| 1031/1031 [00:03<00:00, 271.89it/s]\n"
     ]
    },
    {
     "name": "stdout",
     "output_type": "stream",
     "text": [
      "[004/005] Train Acc: 0.788685 Loss: 0.663761 | Val Acc: 0.700250 loss: 1.018406\n",
      "saving model with acc 0.700\n"
     ]
    },
    {
     "name": "stderr",
     "output_type": "stream",
     "text": [
      "100%|██████████| 4134/4134 [00:28<00:00, 146.15it/s]\n",
      "100%|██████████| 1031/1031 [00:04<00:00, 252.52it/s]\n",
      "\u001b[32m[I 2022-03-11 04:44:26,816]\u001b[0m Trial 9 finished with value: 0.7013736523996287 and parameters: {'concat_nframes': 27, 'hidden_layers': 6, 'hidden_dims': 1280}. Best is trial 7 with value: 0.7118096212508763.\u001b[0m\n"
     ]
    },
    {
     "name": "stdout",
     "output_type": "stream",
     "text": [
      "[005/005] Train Acc: 0.823329 Loss: 0.549314 | Val Acc: 0.701374 loss: 1.072097\n",
      "saving model with acc 0.701\n",
      "[Dataset] - # phone classes: 41, number of utterances for train: 3428\n"
     ]
    },
    {
     "name": "stderr",
     "output_type": "stream",
     "text": [
      "3428it [00:06, 492.51it/s]\n"
     ]
    },
    {
     "name": "stdout",
     "output_type": "stream",
     "text": [
      "[INFO] train set\n",
      "torch.Size([2116368, 975])\n",
      "torch.Size([2116368])\n",
      "[Dataset] - # phone classes: 41, number of utterances for val: 858\n"
     ]
    },
    {
     "name": "stderr",
     "output_type": "stream",
     "text": [
      "858it [00:02, 380.92it/s]\n"
     ]
    },
    {
     "name": "stdout",
     "output_type": "stream",
     "text": [
      "[INFO] val set\n",
      "torch.Size([527790, 975])\n",
      "torch.Size([527790])\n"
     ]
    },
    {
     "name": "stderr",
     "output_type": "stream",
     "text": [
      "100%|██████████| 4134/4134 [00:28<00:00, 144.29it/s]\n",
      "100%|██████████| 1031/1031 [00:04<00:00, 229.71it/s]\n"
     ]
    },
    {
     "name": "stdout",
     "output_type": "stream",
     "text": [
      "[001/005] Train Acc: 0.630444 Loss: 1.205910 | Val Acc: 0.680979 loss: 1.016238\n",
      "saving model with acc 0.681\n"
     ]
    },
    {
     "name": "stderr",
     "output_type": "stream",
     "text": [
      "100%|██████████| 4134/4134 [00:27<00:00, 152.77it/s]\n",
      "100%|██████████| 1031/1031 [00:04<00:00, 256.92it/s]\n"
     ]
    },
    {
     "name": "stdout",
     "output_type": "stream",
     "text": [
      "[002/005] Train Acc: 0.729864 Loss: 0.849580 | Val Acc: 0.704441 loss: 0.942186\n",
      "saving model with acc 0.704\n"
     ]
    },
    {
     "name": "stderr",
     "output_type": "stream",
     "text": [
      "100%|██████████| 4134/4134 [00:28<00:00, 145.38it/s]\n",
      "100%|██████████| 1031/1031 [00:03<00:00, 283.66it/s]\n"
     ]
    },
    {
     "name": "stdout",
     "output_type": "stream",
     "text": [
      "[003/005] Train Acc: 0.781068 Loss: 0.676641 | Val Acc: 0.715997 loss: 0.932912\n",
      "saving model with acc 0.716\n"
     ]
    },
    {
     "name": "stderr",
     "output_type": "stream",
     "text": [
      "100%|██████████| 4134/4134 [00:27<00:00, 149.70it/s]\n",
      "100%|██████████| 1031/1031 [00:03<00:00, 261.09it/s]\n"
     ]
    },
    {
     "name": "stdout",
     "output_type": "stream",
     "text": [
      "[004/005] Train Acc: 0.828674 Loss: 0.519137 | Val Acc: 0.713555 loss: 0.991004\n"
     ]
    },
    {
     "name": "stderr",
     "output_type": "stream",
     "text": [
      "100%|██████████| 4134/4134 [00:27<00:00, 149.44it/s]\n",
      "100%|██████████| 1031/1031 [00:03<00:00, 281.57it/s]\n",
      "\u001b[32m[I 2022-03-11 04:47:17,287]\u001b[0m Trial 10 finished with value: 0.7159968927035374 and parameters: {'concat_nframes': 25, 'hidden_layers': 4, 'hidden_dims': 2048}. Best is trial 10 with value: 0.7159968927035374.\u001b[0m\n"
     ]
    },
    {
     "name": "stdout",
     "output_type": "stream",
     "text": [
      "[005/005] Train Acc: 0.872791 Loss: 0.376415 | Val Acc: 0.710489 loss: 1.134602\n",
      "[Dataset] - # phone classes: 41, number of utterances for train: 3428\n"
     ]
    },
    {
     "name": "stderr",
     "output_type": "stream",
     "text": [
      "3428it [00:07, 454.96it/s]\n"
     ]
    },
    {
     "name": "stdout",
     "output_type": "stream",
     "text": [
      "[INFO] train set\n",
      "torch.Size([2116368, 975])\n",
      "torch.Size([2116368])\n",
      "[Dataset] - # phone classes: 41, number of utterances for val: 858\n"
     ]
    },
    {
     "name": "stderr",
     "output_type": "stream",
     "text": [
      "858it [00:02, 422.86it/s]\n"
     ]
    },
    {
     "name": "stdout",
     "output_type": "stream",
     "text": [
      "[INFO] val set\n",
      "torch.Size([527790, 975])\n",
      "torch.Size([527790])\n"
     ]
    },
    {
     "name": "stderr",
     "output_type": "stream",
     "text": [
      "100%|██████████| 4134/4134 [00:27<00:00, 150.21it/s]\n",
      "100%|██████████| 1031/1031 [00:03<00:00, 264.50it/s]\n"
     ]
    },
    {
     "name": "stdout",
     "output_type": "stream",
     "text": [
      "[001/005] Train Acc: 0.638272 Loss: 1.180986 | Val Acc: 0.682451 loss: 1.014383\n",
      "saving model with acc 0.682\n"
     ]
    },
    {
     "name": "stderr",
     "output_type": "stream",
     "text": [
      "100%|██████████| 4134/4134 [00:26<00:00, 155.64it/s]\n",
      "100%|██████████| 1031/1031 [00:03<00:00, 290.59it/s]\n"
     ]
    },
    {
     "name": "stdout",
     "output_type": "stream",
     "text": [
      "[002/005] Train Acc: 0.730800 Loss: 0.847368 | Val Acc: 0.705824 loss: 0.938578\n",
      "saving model with acc 0.706\n"
     ]
    },
    {
     "name": "stderr",
     "output_type": "stream",
     "text": [
      "100%|██████████| 4134/4134 [00:23<00:00, 176.80it/s]\n",
      "100%|██████████| 1031/1031 [00:04<00:00, 245.77it/s]\n"
     ]
    },
    {
     "name": "stdout",
     "output_type": "stream",
     "text": [
      "[003/005] Train Acc: 0.778076 Loss: 0.685836 | Val Acc: 0.715514 loss: 0.924142\n",
      "saving model with acc 0.716\n"
     ]
    },
    {
     "name": "stderr",
     "output_type": "stream",
     "text": [
      "100%|██████████| 4134/4134 [00:24<00:00, 168.27it/s]\n",
      "100%|██████████| 1031/1031 [00:03<00:00, 285.03it/s]\n"
     ]
    },
    {
     "name": "stdout",
     "output_type": "stream",
     "text": [
      "[004/005] Train Acc: 0.821756 Loss: 0.541251 | Val Acc: 0.714212 loss: 0.971018\n"
     ]
    },
    {
     "name": "stderr",
     "output_type": "stream",
     "text": [
      "100%|██████████| 4134/4134 [00:23<00:00, 178.13it/s]\n",
      "100%|██████████| 1031/1031 [00:03<00:00, 268.96it/s]\n",
      "\u001b[32m[I 2022-03-11 04:49:52,974]\u001b[0m Trial 11 finished with value: 0.7155137459974611 and parameters: {'concat_nframes': 25, 'hidden_layers': 3, 'hidden_dims': 2048}. Best is trial 10 with value: 0.7159968927035374.\u001b[0m\n"
     ]
    },
    {
     "name": "stdout",
     "output_type": "stream",
     "text": [
      "[005/005] Train Acc: 0.862787 Loss: 0.408550 | Val Acc: 0.710612 loss: 1.078316\n",
      "[Dataset] - # phone classes: 41, number of utterances for train: 3428\n"
     ]
    },
    {
     "name": "stderr",
     "output_type": "stream",
     "text": [
      "3428it [00:06, 524.47it/s]\n"
     ]
    },
    {
     "name": "stdout",
     "output_type": "stream",
     "text": [
      "[INFO] train set\n",
      "torch.Size([2116368, 975])\n",
      "torch.Size([2116368])\n",
      "[Dataset] - # phone classes: 41, number of utterances for val: 858\n"
     ]
    },
    {
     "name": "stderr",
     "output_type": "stream",
     "text": [
      "858it [00:01, 535.51it/s]\n"
     ]
    },
    {
     "name": "stdout",
     "output_type": "stream",
     "text": [
      "[INFO] val set\n",
      "torch.Size([527790, 975])\n",
      "torch.Size([527790])\n"
     ]
    },
    {
     "name": "stderr",
     "output_type": "stream",
     "text": [
      "100%|██████████| 4134/4134 [00:23<00:00, 174.97it/s]\n",
      "100%|██████████| 1031/1031 [00:03<00:00, 264.15it/s]\n"
     ]
    },
    {
     "name": "stdout",
     "output_type": "stream",
     "text": [
      "[001/005] Train Acc: 0.638272 Loss: 1.180986 | Val Acc: 0.682451 loss: 1.014383\n",
      "saving model with acc 0.682\n"
     ]
    },
    {
     "name": "stderr",
     "output_type": "stream",
     "text": [
      "100%|██████████| 4134/4134 [00:24<00:00, 165.49it/s]\n",
      "100%|██████████| 1031/1031 [00:03<00:00, 289.02it/s]\n"
     ]
    },
    {
     "name": "stdout",
     "output_type": "stream",
     "text": [
      "[002/005] Train Acc: 0.730800 Loss: 0.847368 | Val Acc: 0.705824 loss: 0.938578\n",
      "saving model with acc 0.706\n"
     ]
    },
    {
     "name": "stderr",
     "output_type": "stream",
     "text": [
      "100%|██████████| 4134/4134 [00:23<00:00, 177.61it/s]\n",
      "100%|██████████| 1031/1031 [00:04<00:00, 237.82it/s]\n"
     ]
    },
    {
     "name": "stdout",
     "output_type": "stream",
     "text": [
      "[003/005] Train Acc: 0.778076 Loss: 0.685836 | Val Acc: 0.715514 loss: 0.924142\n",
      "saving model with acc 0.716\n"
     ]
    },
    {
     "name": "stderr",
     "output_type": "stream",
     "text": [
      "100%|██████████| 4134/4134 [00:25<00:00, 159.69it/s]\n",
      "100%|██████████| 1031/1031 [00:03<00:00, 283.00it/s]\n"
     ]
    },
    {
     "name": "stdout",
     "output_type": "stream",
     "text": [
      "[004/005] Train Acc: 0.821756 Loss: 0.541251 | Val Acc: 0.714212 loss: 0.971018\n"
     ]
    },
    {
     "name": "stderr",
     "output_type": "stream",
     "text": [
      "100%|██████████| 4134/4134 [00:25<00:00, 163.30it/s]\n",
      "100%|██████████| 1031/1031 [00:04<00:00, 256.35it/s]\n",
      "\u001b[32m[I 2022-03-11 04:52:25,514]\u001b[0m Trial 12 finished with value: 0.7155137459974611 and parameters: {'concat_nframes': 25, 'hidden_layers': 3, 'hidden_dims': 2048}. Best is trial 10 with value: 0.7159968927035374.\u001b[0m\n"
     ]
    },
    {
     "name": "stdout",
     "output_type": "stream",
     "text": [
      "[005/005] Train Acc: 0.862787 Loss: 0.408550 | Val Acc: 0.710612 loss: 1.078316\n",
      "[Dataset] - # phone classes: 41, number of utterances for train: 3428\n"
     ]
    },
    {
     "name": "stderr",
     "output_type": "stream",
     "text": [
      "3428it [00:08, 422.68it/s]\n"
     ]
    },
    {
     "name": "stdout",
     "output_type": "stream",
     "text": [
      "[INFO] train set\n",
      "torch.Size([2116368, 1131])\n",
      "torch.Size([2116368])\n",
      "[Dataset] - # phone classes: 41, number of utterances for val: 858\n"
     ]
    },
    {
     "name": "stderr",
     "output_type": "stream",
     "text": [
      "858it [00:02, 418.69it/s]\n"
     ]
    },
    {
     "name": "stdout",
     "output_type": "stream",
     "text": [
      "[INFO] val set\n",
      "torch.Size([527790, 1131])\n",
      "torch.Size([527790])\n"
     ]
    },
    {
     "name": "stderr",
     "output_type": "stream",
     "text": [
      "100%|██████████| 4134/4134 [00:28<00:00, 147.20it/s]\n",
      "100%|██████████| 1031/1031 [00:04<00:00, 249.59it/s]\n"
     ]
    },
    {
     "name": "stdout",
     "output_type": "stream",
     "text": [
      "[001/005] Train Acc: 0.628434 Loss: 1.219779 | Val Acc: 0.673016 loss: 1.047702\n",
      "saving model with acc 0.673\n"
     ]
    },
    {
     "name": "stderr",
     "output_type": "stream",
     "text": [
      "100%|██████████| 4134/4134 [00:27<00:00, 148.06it/s]\n",
      "100%|██████████| 1031/1031 [00:03<00:00, 272.37it/s]\n"
     ]
    },
    {
     "name": "stdout",
     "output_type": "stream",
     "text": [
      "[002/005] Train Acc: 0.720561 Loss: 0.885152 | Val Acc: 0.699634 loss: 0.960184\n",
      "saving model with acc 0.700\n"
     ]
    },
    {
     "name": "stderr",
     "output_type": "stream",
     "text": [
      "100%|██████████| 4134/4134 [00:24<00:00, 170.43it/s]\n",
      "100%|██████████| 1031/1031 [00:04<00:00, 222.90it/s]\n"
     ]
    },
    {
     "name": "stdout",
     "output_type": "stream",
     "text": [
      "[003/005] Train Acc: 0.764132 Loss: 0.737240 | Val Acc: 0.710982 loss: 0.934617\n",
      "saving model with acc 0.711\n"
     ]
    },
    {
     "name": "stderr",
     "output_type": "stream",
     "text": [
      "100%|██████████| 4134/4134 [00:25<00:00, 163.89it/s]\n",
      "100%|██████████| 1031/1031 [00:03<00:00, 271.72it/s]\n"
     ]
    },
    {
     "name": "stdout",
     "output_type": "stream",
     "text": [
      "[004/005] Train Acc: 0.800925 Loss: 0.612776 | Val Acc: 0.714358 loss: 0.953214\n",
      "saving model with acc 0.714\n"
     ]
    },
    {
     "name": "stderr",
     "output_type": "stream",
     "text": [
      "100%|██████████| 4134/4134 [00:24<00:00, 168.37it/s]\n",
      "100%|██████████| 1031/1031 [00:04<00:00, 255.17it/s]\n",
      "\u001b[32m[I 2022-03-11 04:55:07,784]\u001b[0m Trial 13 finished with value: 0.7143579832888081 and parameters: {'concat_nframes': 29, 'hidden_layers': 3, 'hidden_dims': 1536}. Best is trial 10 with value: 0.7159968927035374.\u001b[0m\n"
     ]
    },
    {
     "name": "stdout",
     "output_type": "stream",
     "text": [
      "[005/005] Train Acc: 0.835478 Loss: 0.499141 | Val Acc: 0.713009 loss: 1.008125\n",
      "[Dataset] - # phone classes: 41, number of utterances for train: 3428\n"
     ]
    },
    {
     "name": "stderr",
     "output_type": "stream",
     "text": [
      "3428it [00:06, 491.68it/s]\n"
     ]
    },
    {
     "name": "stdout",
     "output_type": "stream",
     "text": [
      "[INFO] train set\n",
      "torch.Size([2116368, 975])\n",
      "torch.Size([2116368])\n",
      "[Dataset] - # phone classes: 41, number of utterances for val: 858\n"
     ]
    },
    {
     "name": "stderr",
     "output_type": "stream",
     "text": [
      "858it [00:02, 416.82it/s]\n"
     ]
    },
    {
     "name": "stdout",
     "output_type": "stream",
     "text": [
      "[INFO] val set\n",
      "torch.Size([527790, 975])\n",
      "torch.Size([527790])\n"
     ]
    },
    {
     "name": "stderr",
     "output_type": "stream",
     "text": [
      "100%|██████████| 4134/4134 [00:26<00:00, 155.29it/s]\n",
      "100%|██████████| 1031/1031 [00:03<00:00, 275.42it/s]\n"
     ]
    },
    {
     "name": "stdout",
     "output_type": "stream",
     "text": [
      "[001/005] Train Acc: 0.625676 Loss: 1.224261 | Val Acc: 0.676849 loss: 1.033667\n",
      "saving model with acc 0.677\n"
     ]
    },
    {
     "name": "stderr",
     "output_type": "stream",
     "text": [
      "100%|██████████| 4134/4134 [00:28<00:00, 146.70it/s]\n",
      "100%|██████████| 1031/1031 [00:04<00:00, 253.86it/s]\n"
     ]
    },
    {
     "name": "stdout",
     "output_type": "stream",
     "text": [
      "[002/005] Train Acc: 0.722270 Loss: 0.874972 | Val Acc: 0.701777 loss: 0.949518\n",
      "saving model with acc 0.702\n"
     ]
    },
    {
     "name": "stderr",
     "output_type": "stream",
     "text": [
      "100%|██████████| 4134/4134 [00:26<00:00, 154.33it/s]\n",
      "100%|██████████| 1031/1031 [00:04<00:00, 230.70it/s]\n"
     ]
    },
    {
     "name": "stdout",
     "output_type": "stream",
     "text": [
      "[003/005] Train Acc: 0.769502 Loss: 0.715586 | Val Acc: 0.714337 loss: 0.927018\n",
      "saving model with acc 0.714\n"
     ]
    },
    {
     "name": "stderr",
     "output_type": "stream",
     "text": [
      "100%|██████████| 4134/4134 [00:25<00:00, 160.15it/s]\n",
      "100%|██████████| 1031/1031 [00:03<00:00, 263.70it/s]\n"
     ]
    },
    {
     "name": "stdout",
     "output_type": "stream",
     "text": [
      "[004/005] Train Acc: 0.811792 Loss: 0.575451 | Val Acc: 0.714133 loss: 0.958153\n"
     ]
    },
    {
     "name": "stderr",
     "output_type": "stream",
     "text": [
      "100%|██████████| 4134/4134 [00:26<00:00, 155.23it/s]\n",
      "100%|██████████| 1031/1031 [00:03<00:00, 259.89it/s]\n",
      "\u001b[32m[I 2022-03-11 04:57:52,918]\u001b[0m Trial 14 finished with value: 0.714337141666193 and parameters: {'concat_nframes': 25, 'hidden_layers': 4, 'hidden_dims': 1792}. Best is trial 10 with value: 0.7159968927035374.\u001b[0m\n"
     ]
    },
    {
     "name": "stdout",
     "output_type": "stream",
     "text": [
      "[005/005] Train Acc: 0.852023 Loss: 0.444194 | Val Acc: 0.710370 loss: 1.073359\n",
      "[Dataset] - # phone classes: 41, number of utterances for train: 3428\n"
     ]
    },
    {
     "name": "stderr",
     "output_type": "stream",
     "text": [
      "3428it [00:07, 433.56it/s]\n"
     ]
    },
    {
     "name": "stdout",
     "output_type": "stream",
     "text": [
      "[INFO] train set\n",
      "torch.Size([2116368, 1053])\n",
      "torch.Size([2116368])\n",
      "[Dataset] - # phone classes: 41, number of utterances for val: 858\n"
     ]
    },
    {
     "name": "stderr",
     "output_type": "stream",
     "text": [
      "858it [00:02, 349.13it/s]\n"
     ]
    },
    {
     "name": "stdout",
     "output_type": "stream",
     "text": [
      "[INFO] val set\n",
      "torch.Size([527790, 1053])\n",
      "torch.Size([527790])\n"
     ]
    },
    {
     "name": "stderr",
     "output_type": "stream",
     "text": [
      "100%|██████████| 4134/4134 [00:39<00:00, 104.10it/s]\n",
      "100%|██████████| 1031/1031 [00:05<00:00, 202.74it/s]\n"
     ]
    },
    {
     "name": "stdout",
     "output_type": "stream",
     "text": [
      "[001/005] Train Acc: 0.587973 Loss: 1.419648 | Val Acc: 0.666382 loss: 1.143619\n",
      "saving model with acc 0.666\n"
     ]
    },
    {
     "name": "stderr",
     "output_type": "stream",
     "text": [
      "100%|██████████| 4134/4134 [00:36<00:00, 113.44it/s]\n",
      "100%|██████████| 1031/1031 [00:04<00:00, 227.42it/s]\n"
     ]
    },
    {
     "name": "stdout",
     "output_type": "stream",
     "text": [
      "[002/005] Train Acc: 0.730251 Loss: 0.910059 | Val Acc: 0.693340 loss: 1.069203\n",
      "saving model with acc 0.693\n"
     ]
    },
    {
     "name": "stderr",
     "output_type": "stream",
     "text": [
      "100%|██████████| 4134/4134 [00:36<00:00, 112.85it/s]\n",
      "100%|██████████| 1031/1031 [00:04<00:00, 249.50it/s]\n"
     ]
    },
    {
     "name": "stdout",
     "output_type": "stream",
     "text": [
      "[003/005] Train Acc: 0.790944 Loss: 0.695765 | Val Acc: 0.698931 loss: 1.093371\n",
      "saving model with acc 0.699\n"
     ]
    },
    {
     "name": "stderr",
     "output_type": "stream",
     "text": [
      "100%|██████████| 4134/4134 [00:35<00:00, 115.52it/s]\n",
      "100%|██████████| 1031/1031 [00:04<00:00, 239.68it/s]\n"
     ]
    },
    {
     "name": "stdout",
     "output_type": "stream",
     "text": [
      "[004/005] Train Acc: 0.839891 Loss: 0.520383 | Val Acc: 0.700345 loss: 1.172609\n",
      "saving model with acc 0.700\n"
     ]
    },
    {
     "name": "stderr",
     "output_type": "stream",
     "text": [
      "100%|██████████| 4134/4134 [00:36<00:00, 112.29it/s]\n",
      "100%|██████████| 1031/1031 [00:04<00:00, 253.61it/s]\n",
      "\u001b[32m[I 2022-03-11 05:01:33,748]\u001b[0m Trial 15 finished with value: 0.7003448341196309 and parameters: {'concat_nframes': 27, 'hidden_layers': 8, 'hidden_dims': 2048}. Best is trial 10 with value: 0.7159968927035374.\u001b[0m\n"
     ]
    },
    {
     "name": "stdout",
     "output_type": "stream",
     "text": [
      "[005/005] Train Acc: 0.877348 Loss: 0.390249 | Val Acc: 0.697514 loss: 1.319847\n",
      "[Dataset] - # phone classes: 41, number of utterances for train: 3428\n"
     ]
    },
    {
     "name": "stderr",
     "output_type": "stream",
     "text": [
      "3428it [00:08, 392.24it/s]\n"
     ]
    },
    {
     "name": "stdout",
     "output_type": "stream",
     "text": [
      "[INFO] train set\n",
      "torch.Size([2116368, 1209])\n",
      "torch.Size([2116368])\n",
      "[Dataset] - # phone classes: 41, number of utterances for val: 858\n"
     ]
    },
    {
     "name": "stderr",
     "output_type": "stream",
     "text": [
      "858it [00:02, 398.41it/s]\n"
     ]
    },
    {
     "name": "stdout",
     "output_type": "stream",
     "text": [
      "[INFO] val set\n",
      "torch.Size([527790, 1209])\n",
      "torch.Size([527790])\n"
     ]
    },
    {
     "name": "stderr",
     "output_type": "stream",
     "text": [
      "100%|██████████| 4134/4134 [00:26<00:00, 154.74it/s]\n",
      "100%|██████████| 1031/1031 [00:04<00:00, 244.52it/s]\n"
     ]
    },
    {
     "name": "stdout",
     "output_type": "stream",
     "text": [
      "[001/005] Train Acc: 0.619039 Loss: 1.249103 | Val Acc: 0.670634 loss: 1.056592\n",
      "saving model with acc 0.671\n"
     ]
    },
    {
     "name": "stderr",
     "output_type": "stream",
     "text": [
      "100%|██████████| 4134/4134 [00:28<00:00, 144.99it/s]\n",
      "100%|██████████| 1031/1031 [00:03<00:00, 271.60it/s]\n"
     ]
    },
    {
     "name": "stdout",
     "output_type": "stream",
     "text": [
      "[002/005] Train Acc: 0.719841 Loss: 0.887196 | Val Acc: 0.699739 loss: 0.960018\n",
      "saving model with acc 0.700\n"
     ]
    },
    {
     "name": "stderr",
     "output_type": "stream",
     "text": [
      "100%|██████████| 4134/4134 [00:30<00:00, 137.46it/s]\n",
      "100%|██████████| 1031/1031 [00:04<00:00, 220.25it/s]\n"
     ]
    },
    {
     "name": "stdout",
     "output_type": "stream",
     "text": [
      "[003/005] Train Acc: 0.767153 Loss: 0.727592 | Val Acc: 0.711916 loss: 0.938580\n",
      "saving model with acc 0.712\n"
     ]
    },
    {
     "name": "stderr",
     "output_type": "stream",
     "text": [
      "100%|██████████| 4134/4134 [00:28<00:00, 144.59it/s]\n",
      "100%|██████████| 1031/1031 [00:04<00:00, 250.66it/s]\n"
     ]
    },
    {
     "name": "stdout",
     "output_type": "stream",
     "text": [
      "[004/005] Train Acc: 0.807405 Loss: 0.593149 | Val Acc: 0.713719 loss: 0.961327\n",
      "saving model with acc 0.714\n"
     ]
    },
    {
     "name": "stderr",
     "output_type": "stream",
     "text": [
      "100%|██████████| 4134/4134 [00:26<00:00, 153.40it/s]\n",
      "100%|██████████| 1031/1031 [00:04<00:00, 246.51it/s]\n",
      "\u001b[32m[I 2022-03-11 05:04:28,386]\u001b[0m Trial 16 finished with value: 0.7137194717596014 and parameters: {'concat_nframes': 31, 'hidden_layers': 4, 'hidden_dims': 1536}. Best is trial 10 with value: 0.7159968927035374.\u001b[0m\n"
     ]
    },
    {
     "name": "stdout",
     "output_type": "stream",
     "text": [
      "[005/005] Train Acc: 0.844790 Loss: 0.469442 | Val Acc: 0.710540 loss: 1.049739\n",
      "[Dataset] - # phone classes: 41, number of utterances for train: 3428\n"
     ]
    },
    {
     "name": "stderr",
     "output_type": "stream",
     "text": [
      "3428it [00:08, 393.25it/s]\n"
     ]
    },
    {
     "name": "stdout",
     "output_type": "stream",
     "text": [
      "[INFO] train set\n",
      "torch.Size([2116368, 1131])\n",
      "torch.Size([2116368])\n",
      "[Dataset] - # phone classes: 41, number of utterances for val: 858\n"
     ]
    },
    {
     "name": "stderr",
     "output_type": "stream",
     "text": [
      "858it [00:02, 427.07it/s]\n"
     ]
    },
    {
     "name": "stdout",
     "output_type": "stream",
     "text": [
      "[INFO] val set\n",
      "torch.Size([527790, 1131])\n",
      "torch.Size([527790])\n"
     ]
    },
    {
     "name": "stderr",
     "output_type": "stream",
     "text": [
      "100%|██████████| 4134/4134 [00:35<00:00, 115.43it/s]\n",
      "100%|██████████| 1031/1031 [00:04<00:00, 231.49it/s]\n"
     ]
    },
    {
     "name": "stdout",
     "output_type": "stream",
     "text": [
      "[001/005] Train Acc: 0.581813 Loss: 1.441921 | Val Acc: 0.658639 loss: 1.174631\n",
      "saving model with acc 0.659\n"
     ]
    },
    {
     "name": "stderr",
     "output_type": "stream",
     "text": [
      "100%|██████████| 4134/4134 [00:35<00:00, 117.05it/s]\n",
      "100%|██████████| 1031/1031 [00:04<00:00, 207.82it/s]\n"
     ]
    },
    {
     "name": "stdout",
     "output_type": "stream",
     "text": [
      "[002/005] Train Acc: 0.723777 Loss: 0.936709 | Val Acc: 0.689426 loss: 1.077586\n",
      "saving model with acc 0.689\n"
     ]
    },
    {
     "name": "stderr",
     "output_type": "stream",
     "text": [
      "100%|██████████| 4134/4134 [00:35<00:00, 117.68it/s]\n",
      "100%|██████████| 1031/1031 [00:04<00:00, 236.38it/s]\n"
     ]
    },
    {
     "name": "stdout",
     "output_type": "stream",
     "text": [
      "[003/005] Train Acc: 0.783583 Loss: 0.724575 | Val Acc: 0.696963 loss: 1.093210\n",
      "saving model with acc 0.697\n"
     ]
    },
    {
     "name": "stderr",
     "output_type": "stream",
     "text": [
      "100%|██████████| 4134/4134 [00:34<00:00, 119.37it/s]\n",
      "100%|██████████| 1031/1031 [00:04<00:00, 251.92it/s]\n"
     ]
    },
    {
     "name": "stdout",
     "output_type": "stream",
     "text": [
      "[004/005] Train Acc: 0.830313 Loss: 0.557942 | Val Acc: 0.697524 loss: 1.168372\n",
      "saving model with acc 0.698\n"
     ]
    },
    {
     "name": "stderr",
     "output_type": "stream",
     "text": [
      "100%|██████████| 4134/4134 [00:34<00:00, 121.18it/s]\n",
      "100%|██████████| 1031/1031 [00:04<00:00, 239.59it/s]\n"
     ]
    },
    {
     "name": "stdout",
     "output_type": "stream",
     "text": [
      "[005/005] Train Acc: 0.867642 Loss: 0.426711 | Val Acc: 0.698395 loss: 1.300673\n"
     ]
    },
    {
     "name": "stderr",
     "output_type": "stream",
     "text": [
      "\u001b[32m[I 2022-03-11 05:07:59,182]\u001b[0m Trial 17 finished with value: 0.6983951950586408 and parameters: {'concat_nframes': 29, 'hidden_layers': 8, 'hidden_dims': 1792}. Best is trial 10 with value: 0.7159968927035374.\u001b[0m\n"
     ]
    },
    {
     "name": "stdout",
     "output_type": "stream",
     "text": [
      "saving model with acc 0.698\n",
      "[Dataset] - # phone classes: 41, number of utterances for train: 3428\n"
     ]
    },
    {
     "name": "stderr",
     "output_type": "stream",
     "text": [
      "3428it [00:06, 499.46it/s]\n"
     ]
    },
    {
     "name": "stdout",
     "output_type": "stream",
     "text": [
      "[INFO] train set\n",
      "torch.Size([2116368, 975])\n",
      "torch.Size([2116368])\n",
      "[Dataset] - # phone classes: 41, number of utterances for val: 858\n"
     ]
    },
    {
     "name": "stderr",
     "output_type": "stream",
     "text": [
      "858it [00:02, 420.89it/s]\n"
     ]
    },
    {
     "name": "stdout",
     "output_type": "stream",
     "text": [
      "[INFO] val set\n",
      "torch.Size([527790, 975])\n",
      "torch.Size([527790])\n"
     ]
    },
    {
     "name": "stderr",
     "output_type": "stream",
     "text": [
      "100%|██████████| 4134/4134 [00:26<00:00, 153.42it/s]\n",
      "100%|██████████| 1031/1031 [00:03<00:00, 260.79it/s]\n"
     ]
    },
    {
     "name": "stdout",
     "output_type": "stream",
     "text": [
      "[001/005] Train Acc: 0.611206 Loss: 1.278661 | Val Acc: 0.663845 loss: 1.076551\n",
      "saving model with acc 0.664\n"
     ]
    },
    {
     "name": "stderr",
     "output_type": "stream",
     "text": [
      "100%|██████████| 4134/4134 [00:27<00:00, 148.30it/s]\n",
      "100%|██████████| 1031/1031 [00:04<00:00, 252.98it/s]\n"
     ]
    },
    {
     "name": "stdout",
     "output_type": "stream",
     "text": [
      "[002/005] Train Acc: 0.704512 Loss: 0.937654 | Val Acc: 0.691925 loss: 0.983811\n",
      "saving model with acc 0.692\n"
     ]
    },
    {
     "name": "stderr",
     "output_type": "stream",
     "text": [
      "100%|██████████| 4134/4134 [00:25<00:00, 160.75it/s]\n",
      "100%|██████████| 1031/1031 [00:03<00:00, 268.52it/s]\n"
     ]
    },
    {
     "name": "stdout",
     "output_type": "stream",
     "text": [
      "[003/005] Train Acc: 0.743682 Loss: 0.802755 | Val Acc: 0.706470 loss: 0.940687\n",
      "saving model with acc 0.706\n"
     ]
    },
    {
     "name": "stderr",
     "output_type": "stream",
     "text": [
      "100%|██████████| 4134/4134 [00:25<00:00, 160.31it/s]\n",
      "100%|██████████| 1031/1031 [00:03<00:00, 285.56it/s]\n"
     ]
    },
    {
     "name": "stdout",
     "output_type": "stream",
     "text": [
      "[004/005] Train Acc: 0.775196 Loss: 0.696047 | Val Acc: 0.712100 loss: 0.930623\n",
      "saving model with acc 0.712\n"
     ]
    },
    {
     "name": "stderr",
     "output_type": "stream",
     "text": [
      "100%|██████████| 4134/4134 [00:23<00:00, 174.93it/s]\n",
      "100%|██████████| 1031/1031 [00:03<00:00, 267.15it/s]\n",
      "\u001b[32m[I 2022-03-11 05:10:39,206]\u001b[0m Trial 18 finished with value: 0.7147539741184941 and parameters: {'concat_nframes': 25, 'hidden_layers': 4, 'hidden_dims': 1280}. Best is trial 10 with value: 0.7159968927035374.\u001b[0m\n"
     ]
    },
    {
     "name": "stdout",
     "output_type": "stream",
     "text": [
      "[005/005] Train Acc: 0.804601 Loss: 0.598895 | Val Acc: 0.714754 loss: 0.950651\n",
      "saving model with acc 0.715\n",
      "[Dataset] - # phone classes: 41, number of utterances for train: 3428\n"
     ]
    },
    {
     "name": "stderr",
     "output_type": "stream",
     "text": [
      "3428it [00:08, 382.78it/s]\n"
     ]
    },
    {
     "name": "stdout",
     "output_type": "stream",
     "text": [
      "[INFO] train set\n",
      "torch.Size([2116368, 1053])\n",
      "torch.Size([2116368])\n",
      "[Dataset] - # phone classes: 41, number of utterances for val: 858\n"
     ]
    },
    {
     "name": "stderr",
     "output_type": "stream",
     "text": [
      "858it [00:04, 199.86it/s]\n"
     ]
    },
    {
     "name": "stdout",
     "output_type": "stream",
     "text": [
      "[INFO] val set\n",
      "torch.Size([527790, 1053])\n",
      "torch.Size([527790])\n"
     ]
    },
    {
     "name": "stderr",
     "output_type": "stream",
     "text": [
      "100%|██████████| 4134/4134 [00:30<00:00, 133.73it/s]\n",
      "100%|██████████| 1031/1031 [00:04<00:00, 254.65it/s]\n"
     ]
    },
    {
     "name": "stdout",
     "output_type": "stream",
     "text": [
      "[001/005] Train Acc: 0.639212 Loss: 1.178569 | Val Acc: 0.682201 loss: 1.014850\n",
      "saving model with acc 0.682\n"
     ]
    },
    {
     "name": "stderr",
     "output_type": "stream",
     "text": [
      "100%|██████████| 4134/4134 [00:29<00:00, 139.38it/s]\n",
      "100%|██████████| 1031/1031 [00:04<00:00, 226.83it/s]\n"
     ]
    },
    {
     "name": "stdout",
     "output_type": "stream",
     "text": [
      "[002/005] Train Acc: 0.734142 Loss: 0.837162 | Val Acc: 0.706266 loss: 0.939712\n",
      "saving model with acc 0.706\n"
     ]
    },
    {
     "name": "stderr",
     "output_type": "stream",
     "text": [
      "100%|██████████| 4134/4134 [00:26<00:00, 158.03it/s]\n",
      "100%|██████████| 1031/1031 [00:03<00:00, 258.32it/s]\n"
     ]
    },
    {
     "name": "stdout",
     "output_type": "stream",
     "text": [
      "[003/005] Train Acc: 0.783432 Loss: 0.669512 | Val Acc: 0.714716 loss: 0.936720\n",
      "saving model with acc 0.715\n"
     ]
    },
    {
     "name": "stderr",
     "output_type": "stream",
     "text": [
      "100%|██████████| 4134/4134 [00:25<00:00, 162.34it/s]\n",
      "100%|██████████| 1031/1031 [00:03<00:00, 263.33it/s]\n"
     ]
    },
    {
     "name": "stdout",
     "output_type": "stream",
     "text": [
      "[004/005] Train Acc: 0.829066 Loss: 0.518508 | Val Acc: 0.713094 loss: 1.006215\n"
     ]
    },
    {
     "name": "stderr",
     "output_type": "stream",
     "text": [
      "100%|██████████| 4134/4134 [00:24<00:00, 168.51it/s]\n",
      "100%|██████████| 1031/1031 [00:03<00:00, 285.47it/s]\n",
      "\u001b[32m[I 2022-03-11 05:13:31,225]\u001b[0m Trial 19 finished with value: 0.714716080259194 and parameters: {'concat_nframes': 27, 'hidden_layers': 3, 'hidden_dims': 2048}. Best is trial 10 with value: 0.7159968927035374.\u001b[0m\n"
     ]
    },
    {
     "name": "stdout",
     "output_type": "stream",
     "text": [
      "[005/005] Train Acc: 0.870753 Loss: 0.384247 | Val Acc: 0.709403 loss: 1.093945\n",
      "[Dataset] - # phone classes: 41, number of utterances for train: 3428\n"
     ]
    },
    {
     "name": "stderr",
     "output_type": "stream",
     "text": [
      "3428it [00:09, 373.47it/s]\n"
     ]
    },
    {
     "name": "stdout",
     "output_type": "stream",
     "text": [
      "[INFO] train set\n",
      "torch.Size([2116368, 1287])\n",
      "torch.Size([2116368])\n",
      "[Dataset] - # phone classes: 41, number of utterances for val: 858\n"
     ]
    },
    {
     "name": "stderr",
     "output_type": "stream",
     "text": [
      "858it [00:02, 402.32it/s]\n"
     ]
    },
    {
     "name": "stdout",
     "output_type": "stream",
     "text": [
      "[INFO] val set\n",
      "torch.Size([527790, 1287])\n",
      "torch.Size([527790])\n"
     ]
    },
    {
     "name": "stderr",
     "output_type": "stream",
     "text": [
      "100%|██████████| 4134/4134 [00:30<00:00, 133.83it/s]\n",
      "100%|██████████| 1031/1031 [00:04<00:00, 233.38it/s]\n"
     ]
    },
    {
     "name": "stdout",
     "output_type": "stream",
     "text": [
      "[001/005] Train Acc: 0.615349 Loss: 1.264389 | Val Acc: 0.672449 loss: 1.054356\n",
      "saving model with acc 0.672\n"
     ]
    },
    {
     "name": "stderr",
     "output_type": "stream",
     "text": [
      "100%|██████████| 4134/4134 [00:31<00:00, 129.69it/s]\n",
      "100%|██████████| 1031/1031 [00:04<00:00, 214.36it/s]\n"
     ]
    },
    {
     "name": "stdout",
     "output_type": "stream",
     "text": [
      "[002/005] Train Acc: 0.729103 Loss: 0.860518 | Val Acc: 0.699919 loss: 0.969790\n",
      "saving model with acc 0.700\n"
     ]
    },
    {
     "name": "stderr",
     "output_type": "stream",
     "text": [
      "100%|██████████| 4134/4134 [00:29<00:00, 141.87it/s]\n",
      "100%|██████████| 1031/1031 [00:04<00:00, 230.23it/s]\n"
     ]
    },
    {
     "name": "stdout",
     "output_type": "stream",
     "text": [
      "[003/005] Train Acc: 0.785399 Loss: 0.670235 | Val Acc: 0.707586 loss: 0.981872\n",
      "saving model with acc 0.708\n"
     ]
    },
    {
     "name": "stderr",
     "output_type": "stream",
     "text": [
      "100%|██████████| 4134/4134 [00:28<00:00, 145.48it/s]\n",
      "100%|██████████| 1031/1031 [00:04<00:00, 241.36it/s]\n"
     ]
    },
    {
     "name": "stdout",
     "output_type": "stream",
     "text": [
      "[004/005] Train Acc: 0.834973 Loss: 0.506404 | Val Acc: 0.703814 loss: 1.061535\n"
     ]
    },
    {
     "name": "stderr",
     "output_type": "stream",
     "text": [
      "100%|██████████| 4134/4134 [00:28<00:00, 144.94it/s]\n",
      "100%|██████████| 1031/1031 [00:03<00:00, 263.07it/s]\n",
      "\u001b[32m[I 2022-03-11 05:16:35,408]\u001b[0m Trial 20 finished with value: 0.7075863506318801 and parameters: {'concat_nframes': 33, 'hidden_layers': 5, 'hidden_dims': 1792}. Best is trial 10 with value: 0.7159968927035374.\u001b[0m\n"
     ]
    },
    {
     "name": "stdout",
     "output_type": "stream",
     "text": [
      "[005/005] Train Acc: 0.876554 Loss: 0.370959 | Val Acc: 0.700864 loss: 1.227056\n",
      "[Dataset] - # phone classes: 41, number of utterances for train: 3428\n"
     ]
    },
    {
     "name": "stderr",
     "output_type": "stream",
     "text": [
      "3428it [00:06, 508.15it/s]\n"
     ]
    },
    {
     "name": "stdout",
     "output_type": "stream",
     "text": [
      "[INFO] train set\n",
      "torch.Size([2116368, 975])\n",
      "torch.Size([2116368])\n",
      "[Dataset] - # phone classes: 41, number of utterances for val: 858\n"
     ]
    },
    {
     "name": "stderr",
     "output_type": "stream",
     "text": [
      "858it [00:01, 532.20it/s]\n"
     ]
    },
    {
     "name": "stdout",
     "output_type": "stream",
     "text": [
      "[INFO] val set\n",
      "torch.Size([527790, 975])\n",
      "torch.Size([527790])\n"
     ]
    },
    {
     "name": "stderr",
     "output_type": "stream",
     "text": [
      "100%|██████████| 4134/4134 [00:26<00:00, 156.29it/s]\n",
      "100%|██████████| 1031/1031 [00:04<00:00, 236.68it/s]\n"
     ]
    },
    {
     "name": "stdout",
     "output_type": "stream",
     "text": [
      "[001/005] Train Acc: 0.638272 Loss: 1.180986 | Val Acc: 0.682451 loss: 1.014383\n",
      "saving model with acc 0.682\n"
     ]
    },
    {
     "name": "stderr",
     "output_type": "stream",
     "text": [
      "100%|██████████| 4134/4134 [00:25<00:00, 163.65it/s]\n",
      "100%|██████████| 1031/1031 [00:03<00:00, 271.12it/s]\n"
     ]
    },
    {
     "name": "stdout",
     "output_type": "stream",
     "text": [
      "[002/005] Train Acc: 0.730800 Loss: 0.847368 | Val Acc: 0.705824 loss: 0.938578\n",
      "saving model with acc 0.706\n"
     ]
    },
    {
     "name": "stderr",
     "output_type": "stream",
     "text": [
      "100%|██████████| 4134/4134 [00:24<00:00, 170.22it/s]\n",
      "100%|██████████| 1031/1031 [00:03<00:00, 282.50it/s]\n"
     ]
    },
    {
     "name": "stdout",
     "output_type": "stream",
     "text": [
      "[003/005] Train Acc: 0.778076 Loss: 0.685836 | Val Acc: 0.715514 loss: 0.924142\n",
      "saving model with acc 0.716\n"
     ]
    },
    {
     "name": "stderr",
     "output_type": "stream",
     "text": [
      "100%|██████████| 4134/4134 [00:24<00:00, 168.62it/s]\n",
      "100%|██████████| 1031/1031 [00:03<00:00, 295.19it/s]\n"
     ]
    },
    {
     "name": "stdout",
     "output_type": "stream",
     "text": [
      "[004/005] Train Acc: 0.821756 Loss: 0.541251 | Val Acc: 0.714212 loss: 0.971018\n"
     ]
    },
    {
     "name": "stderr",
     "output_type": "stream",
     "text": [
      "100%|██████████| 4134/4134 [00:23<00:00, 175.74it/s]\n",
      "100%|██████████| 1031/1031 [00:03<00:00, 270.92it/s]\n",
      "\u001b[32m[I 2022-03-11 05:19:08,913]\u001b[0m Trial 21 finished with value: 0.7155137459974611 and parameters: {'concat_nframes': 25, 'hidden_layers': 3, 'hidden_dims': 2048}. Best is trial 10 with value: 0.7159968927035374.\u001b[0m\n"
     ]
    },
    {
     "name": "stdout",
     "output_type": "stream",
     "text": [
      "[005/005] Train Acc: 0.862787 Loss: 0.408550 | Val Acc: 0.710612 loss: 1.078316\n",
      "[Dataset] - # phone classes: 41, number of utterances for train: 3428\n"
     ]
    },
    {
     "name": "stderr",
     "output_type": "stream",
     "text": [
      "3428it [00:07, 459.12it/s]\n"
     ]
    },
    {
     "name": "stdout",
     "output_type": "stream",
     "text": [
      "[INFO] train set\n",
      "torch.Size([2116368, 975])\n",
      "torch.Size([2116368])\n",
      "[Dataset] - # phone classes: 41, number of utterances for val: 858\n"
     ]
    },
    {
     "name": "stderr",
     "output_type": "stream",
     "text": [
      "858it [00:01, 434.51it/s]\n"
     ]
    },
    {
     "name": "stdout",
     "output_type": "stream",
     "text": [
      "[INFO] val set\n",
      "torch.Size([527790, 975])\n",
      "torch.Size([527790])\n"
     ]
    },
    {
     "name": "stderr",
     "output_type": "stream",
     "text": [
      "100%|██████████| 4134/4134 [00:26<00:00, 155.25it/s]\n",
      "100%|██████████| 1031/1031 [00:04<00:00, 241.52it/s]\n"
     ]
    },
    {
     "name": "stdout",
     "output_type": "stream",
     "text": [
      "[001/005] Train Acc: 0.638272 Loss: 1.180986 | Val Acc: 0.682451 loss: 1.014383\n",
      "saving model with acc 0.682\n"
     ]
    },
    {
     "name": "stderr",
     "output_type": "stream",
     "text": [
      "100%|██████████| 4134/4134 [00:25<00:00, 162.65it/s]\n",
      "100%|██████████| 1031/1031 [00:03<00:00, 271.50it/s]\n"
     ]
    },
    {
     "name": "stdout",
     "output_type": "stream",
     "text": [
      "[002/005] Train Acc: 0.730800 Loss: 0.847368 | Val Acc: 0.705824 loss: 0.938578\n",
      "saving model with acc 0.706\n"
     ]
    },
    {
     "name": "stderr",
     "output_type": "stream",
     "text": [
      "100%|██████████| 4134/4134 [00:23<00:00, 177.29it/s]\n",
      "100%|██████████| 1031/1031 [00:03<00:00, 294.17it/s]\n"
     ]
    },
    {
     "name": "stdout",
     "output_type": "stream",
     "text": [
      "[003/005] Train Acc: 0.778076 Loss: 0.685836 | Val Acc: 0.715514 loss: 0.924142\n",
      "saving model with acc 0.716\n"
     ]
    },
    {
     "name": "stderr",
     "output_type": "stream",
     "text": [
      "100%|██████████| 4134/4134 [00:24<00:00, 169.96it/s]\n",
      "100%|██████████| 1031/1031 [00:03<00:00, 293.00it/s]\n"
     ]
    },
    {
     "name": "stdout",
     "output_type": "stream",
     "text": [
      "[004/005] Train Acc: 0.821756 Loss: 0.541251 | Val Acc: 0.714212 loss: 0.971018\n"
     ]
    },
    {
     "name": "stderr",
     "output_type": "stream",
     "text": [
      "100%|██████████| 4134/4134 [00:23<00:00, 176.87it/s]\n",
      "100%|██████████| 1031/1031 [00:03<00:00, 266.51it/s]\n",
      "\u001b[32m[I 2022-03-11 05:21:42,192]\u001b[0m Trial 22 finished with value: 0.7155137459974611 and parameters: {'concat_nframes': 25, 'hidden_layers': 3, 'hidden_dims': 2048}. Best is trial 10 with value: 0.7159968927035374.\u001b[0m\n"
     ]
    },
    {
     "name": "stdout",
     "output_type": "stream",
     "text": [
      "[005/005] Train Acc: 0.862787 Loss: 0.408550 | Val Acc: 0.710612 loss: 1.078316\n",
      "[Dataset] - # phone classes: 41, number of utterances for train: 3428\n"
     ]
    },
    {
     "name": "stderr",
     "output_type": "stream",
     "text": [
      "3428it [00:07, 460.38it/s]\n"
     ]
    },
    {
     "name": "stdout",
     "output_type": "stream",
     "text": [
      "[INFO] train set\n",
      "torch.Size([2116368, 1053])\n",
      "torch.Size([2116368])\n",
      "[Dataset] - # phone classes: 41, number of utterances for val: 858\n"
     ]
    },
    {
     "name": "stderr",
     "output_type": "stream",
     "text": [
      "858it [00:01, 446.13it/s]\n"
     ]
    },
    {
     "name": "stdout",
     "output_type": "stream",
     "text": [
      "[INFO] val set\n",
      "torch.Size([527790, 1053])\n",
      "torch.Size([527790])\n"
     ]
    },
    {
     "name": "stderr",
     "output_type": "stream",
     "text": [
      "100%|██████████| 4134/4134 [00:31<00:00, 132.92it/s]\n",
      "100%|██████████| 1031/1031 [00:04<00:00, 225.92it/s]\n"
     ]
    },
    {
     "name": "stdout",
     "output_type": "stream",
     "text": [
      "[001/005] Train Acc: 0.615609 Loss: 1.263790 | Val Acc: 0.672836 loss: 1.052764\n",
      "saving model with acc 0.673\n"
     ]
    },
    {
     "name": "stderr",
     "output_type": "stream",
     "text": [
      "100%|██████████| 4134/4134 [00:28<00:00, 145.35it/s]\n",
      "100%|██████████| 1031/1031 [00:04<00:00, 255.47it/s]\n"
     ]
    },
    {
     "name": "stdout",
     "output_type": "stream",
     "text": [
      "[002/005] Train Acc: 0.723342 Loss: 0.877248 | Val Acc: 0.701093 loss: 0.960842\n",
      "saving model with acc 0.701\n"
     ]
    },
    {
     "name": "stderr",
     "output_type": "stream",
     "text": [
      "100%|██████████| 4134/4134 [00:27<00:00, 151.08it/s]\n",
      "100%|██████████| 1031/1031 [00:03<00:00, 279.16it/s]\n"
     ]
    },
    {
     "name": "stdout",
     "output_type": "stream",
     "text": [
      "[003/005] Train Acc: 0.775840 Loss: 0.699199 | Val Acc: 0.711884 loss: 0.957617\n",
      "saving model with acc 0.712\n"
     ]
    },
    {
     "name": "stderr",
     "output_type": "stream",
     "text": [
      "100%|██████████| 4134/4134 [00:27<00:00, 147.97it/s]\n",
      "100%|██████████| 1031/1031 [00:03<00:00, 266.78it/s]\n"
     ]
    },
    {
     "name": "stdout",
     "output_type": "stream",
     "text": [
      "[004/005] Train Acc: 0.822472 Loss: 0.544754 | Val Acc: 0.709481 loss: 1.019525\n"
     ]
    },
    {
     "name": "stderr",
     "output_type": "stream",
     "text": [
      "100%|██████████| 4134/4134 [00:27<00:00, 152.10it/s]\n",
      "100%|██████████| 1031/1031 [00:04<00:00, 248.72it/s]\n",
      "\u001b[32m[I 2022-03-11 05:24:35,799]\u001b[0m Trial 23 finished with value: 0.7118835142765115 and parameters: {'concat_nframes': 27, 'hidden_layers': 5, 'hidden_dims': 1792}. Best is trial 10 with value: 0.7159968927035374.\u001b[0m\n"
     ]
    },
    {
     "name": "stdout",
     "output_type": "stream",
     "text": [
      "[005/005] Train Acc: 0.863696 Loss: 0.409887 | Val Acc: 0.703931 loss: 1.149036\n",
      "[Dataset] - # phone classes: 41, number of utterances for train: 3428\n"
     ]
    },
    {
     "name": "stderr",
     "output_type": "stream",
     "text": [
      "3428it [00:07, 434.57it/s]\n"
     ]
    },
    {
     "name": "stdout",
     "output_type": "stream",
     "text": [
      "[INFO] train set\n",
      "torch.Size([2116368, 975])\n",
      "torch.Size([2116368])\n",
      "[Dataset] - # phone classes: 41, number of utterances for val: 858\n"
     ]
    },
    {
     "name": "stderr",
     "output_type": "stream",
     "text": [
      "858it [00:01, 448.71it/s]\n"
     ]
    },
    {
     "name": "stdout",
     "output_type": "stream",
     "text": [
      "[INFO] val set\n",
      "torch.Size([527790, 975])\n",
      "torch.Size([527790])\n"
     ]
    },
    {
     "name": "stderr",
     "output_type": "stream",
     "text": [
      "100%|██████████| 4134/4134 [00:30<00:00, 137.09it/s]\n",
      "100%|██████████| 1031/1031 [00:04<00:00, 237.06it/s]\n"
     ]
    },
    {
     "name": "stdout",
     "output_type": "stream",
     "text": [
      "[001/005] Train Acc: 0.618847 Loss: 1.249459 | Val Acc: 0.670898 loss: 1.053676\n",
      "saving model with acc 0.671\n"
     ]
    },
    {
     "name": "stderr",
     "output_type": "stream",
     "text": [
      "100%|██████████| 4134/4134 [00:26<00:00, 154.39it/s]\n",
      "100%|██████████| 1031/1031 [00:03<00:00, 283.29it/s]\n"
     ]
    },
    {
     "name": "stdout",
     "output_type": "stream",
     "text": [
      "[002/005] Train Acc: 0.714209 Loss: 0.904451 | Val Acc: 0.697975 loss: 0.963478\n",
      "saving model with acc 0.698\n"
     ]
    },
    {
     "name": "stderr",
     "output_type": "stream",
     "text": [
      "100%|██████████| 4134/4134 [00:28<00:00, 146.58it/s]\n",
      "100%|██████████| 1031/1031 [00:04<00:00, 254.07it/s]\n"
     ]
    },
    {
     "name": "stdout",
     "output_type": "stream",
     "text": [
      "[003/005] Train Acc: 0.756955 Loss: 0.757198 | Val Acc: 0.709149 loss: 0.938032\n",
      "saving model with acc 0.709\n"
     ]
    },
    {
     "name": "stderr",
     "output_type": "stream",
     "text": [
      "100%|██████████| 4134/4134 [00:27<00:00, 152.11it/s]\n",
      "100%|██████████| 1031/1031 [00:03<00:00, 266.89it/s]\n"
     ]
    },
    {
     "name": "stdout",
     "output_type": "stream",
     "text": [
      "[004/005] Train Acc: 0.794193 Loss: 0.633119 | Val Acc: 0.714517 loss: 0.944149\n",
      "saving model with acc 0.715\n"
     ]
    },
    {
     "name": "stderr",
     "output_type": "stream",
     "text": [
      "100%|██████████| 4134/4134 [00:24<00:00, 167.41it/s]\n",
      "100%|██████████| 1031/1031 [00:04<00:00, 255.19it/s]\n",
      "\u001b[32m[I 2022-03-11 05:27:24,530]\u001b[0m Trial 24 finished with value: 0.7145171374978685 and parameters: {'concat_nframes': 25, 'hidden_layers': 4, 'hidden_dims': 1536}. Best is trial 10 with value: 0.7159968927035374.\u001b[0m\n"
     ]
    },
    {
     "name": "stdout",
     "output_type": "stream",
     "text": [
      "[005/005] Train Acc: 0.829292 Loss: 0.516678 | Val Acc: 0.711381 loss: 1.006355\n",
      "[Dataset] - # phone classes: 41, number of utterances for train: 3428\n"
     ]
    },
    {
     "name": "stderr",
     "output_type": "stream",
     "text": [
      "3428it [00:06, 495.18it/s]\n"
     ]
    },
    {
     "name": "stdout",
     "output_type": "stream",
     "text": [
      "[INFO] train set\n",
      "torch.Size([2116368, 975])\n",
      "torch.Size([2116368])\n",
      "[Dataset] - # phone classes: 41, number of utterances for val: 858\n"
     ]
    },
    {
     "name": "stderr",
     "output_type": "stream",
     "text": [
      "858it [00:02, 407.75it/s]\n"
     ]
    },
    {
     "name": "stdout",
     "output_type": "stream",
     "text": [
      "[INFO] val set\n",
      "torch.Size([527790, 975])\n",
      "torch.Size([527790])\n"
     ]
    },
    {
     "name": "stderr",
     "output_type": "stream",
     "text": [
      "100%|██████████| 4134/4134 [00:28<00:00, 143.98it/s]\n",
      "100%|██████████| 1031/1031 [00:04<00:00, 234.61it/s]\n"
     ]
    },
    {
     "name": "stdout",
     "output_type": "stream",
     "text": [
      "[001/005] Train Acc: 0.638272 Loss: 1.180986 | Val Acc: 0.682451 loss: 1.014383\n",
      "saving model with acc 0.682\n"
     ]
    },
    {
     "name": "stderr",
     "output_type": "stream",
     "text": [
      "100%|██████████| 4134/4134 [00:25<00:00, 163.50it/s]\n",
      "100%|██████████| 1031/1031 [00:03<00:00, 266.75it/s]\n"
     ]
    },
    {
     "name": "stdout",
     "output_type": "stream",
     "text": [
      "[002/005] Train Acc: 0.730800 Loss: 0.847368 | Val Acc: 0.705824 loss: 0.938578\n",
      "saving model with acc 0.706\n"
     ]
    },
    {
     "name": "stderr",
     "output_type": "stream",
     "text": [
      "100%|██████████| 4134/4134 [00:25<00:00, 163.61it/s]\n",
      "100%|██████████| 1031/1031 [00:03<00:00, 286.29it/s]\n"
     ]
    },
    {
     "name": "stdout",
     "output_type": "stream",
     "text": [
      "[003/005] Train Acc: 0.778076 Loss: 0.685836 | Val Acc: 0.715514 loss: 0.924142\n",
      "saving model with acc 0.716\n"
     ]
    },
    {
     "name": "stderr",
     "output_type": "stream",
     "text": [
      "100%|██████████| 4134/4134 [00:24<00:00, 167.17it/s]\n",
      "100%|██████████| 1031/1031 [00:03<00:00, 286.77it/s]\n"
     ]
    },
    {
     "name": "stdout",
     "output_type": "stream",
     "text": [
      "[004/005] Train Acc: 0.821756 Loss: 0.541251 | Val Acc: 0.714212 loss: 0.971018\n"
     ]
    },
    {
     "name": "stderr",
     "output_type": "stream",
     "text": [
      "100%|██████████| 4134/4134 [00:24<00:00, 171.79it/s]\n",
      "100%|██████████| 1031/1031 [00:03<00:00, 270.98it/s]\n",
      "\u001b[32m[I 2022-03-11 05:30:02,824]\u001b[0m Trial 25 finished with value: 0.7155137459974611 and parameters: {'concat_nframes': 25, 'hidden_layers': 3, 'hidden_dims': 2048}. Best is trial 10 with value: 0.7159968927035374.\u001b[0m\n"
     ]
    },
    {
     "name": "stdout",
     "output_type": "stream",
     "text": [
      "[005/005] Train Acc: 0.862787 Loss: 0.408550 | Val Acc: 0.710612 loss: 1.078316\n",
      "[Dataset] - # phone classes: 41, number of utterances for train: 3428\n"
     ]
    },
    {
     "name": "stderr",
     "output_type": "stream",
     "text": [
      "3428it [00:07, 475.89it/s]\n"
     ]
    },
    {
     "name": "stdout",
     "output_type": "stream",
     "text": [
      "[INFO] train set\n",
      "torch.Size([2116368, 1053])\n",
      "torch.Size([2116368])\n",
      "[Dataset] - # phone classes: 41, number of utterances for val: 858\n"
     ]
    },
    {
     "name": "stderr",
     "output_type": "stream",
     "text": [
      "858it [00:01, 485.58it/s]\n"
     ]
    },
    {
     "name": "stdout",
     "output_type": "stream",
     "text": [
      "[INFO] val set\n",
      "torch.Size([527790, 1053])\n",
      "torch.Size([527790])\n"
     ]
    },
    {
     "name": "stderr",
     "output_type": "stream",
     "text": [
      "100%|██████████| 4134/4134 [00:29<00:00, 141.62it/s]\n",
      "100%|██████████| 1031/1031 [00:03<00:00, 269.70it/s]\n"
     ]
    },
    {
     "name": "stdout",
     "output_type": "stream",
     "text": [
      "[001/005] Train Acc: 0.625643 Loss: 1.224246 | Val Acc: 0.677091 loss: 1.030704\n",
      "saving model with acc 0.677\n"
     ]
    },
    {
     "name": "stderr",
     "output_type": "stream",
     "text": [
      "100%|██████████| 4134/4134 [00:25<00:00, 164.59it/s]\n",
      "100%|██████████| 1031/1031 [00:04<00:00, 251.58it/s]\n"
     ]
    },
    {
     "name": "stdout",
     "output_type": "stream",
     "text": [
      "[002/005] Train Acc: 0.724676 Loss: 0.868011 | Val Acc: 0.703069 loss: 0.946738\n",
      "saving model with acc 0.703\n"
     ]
    },
    {
     "name": "stderr",
     "output_type": "stream",
     "text": [
      "100%|██████████| 4134/4134 [00:25<00:00, 159.59it/s]\n",
      "100%|██████████| 1031/1031 [00:03<00:00, 274.51it/s]\n"
     ]
    },
    {
     "name": "stdout",
     "output_type": "stream",
     "text": [
      "[003/005] Train Acc: 0.773379 Loss: 0.703483 | Val Acc: 0.716101 loss: 0.925914\n",
      "saving model with acc 0.716\n"
     ]
    },
    {
     "name": "stderr",
     "output_type": "stream",
     "text": [
      "100%|██████████| 4134/4134 [00:26<00:00, 158.61it/s]\n",
      "100%|██████████| 1031/1031 [00:04<00:00, 232.18it/s]\n"
     ]
    },
    {
     "name": "stdout",
     "output_type": "stream",
     "text": [
      "[004/005] Train Acc: 0.817212 Loss: 0.557874 | Val Acc: 0.715284 loss: 0.973885\n"
     ]
    },
    {
     "name": "stderr",
     "output_type": "stream",
     "text": [
      "100%|██████████| 4134/4134 [00:25<00:00, 161.74it/s]\n",
      "100%|██████████| 1031/1031 [00:03<00:00, 281.92it/s]\n",
      "\u001b[32m[I 2022-03-11 05:32:45,263]\u001b[0m Trial 26 finished with value: 0.7161011008166127 and parameters: {'concat_nframes': 27, 'hidden_layers': 4, 'hidden_dims': 1792}. Best is trial 26 with value: 0.7161011008166127.\u001b[0m\n"
     ]
    },
    {
     "name": "stdout",
     "output_type": "stream",
     "text": [
      "[005/005] Train Acc: 0.858510 Loss: 0.423675 | Val Acc: 0.710309 loss: 1.092984\n",
      "[Dataset] - # phone classes: 41, number of utterances for train: 3428\n"
     ]
    },
    {
     "name": "stderr",
     "output_type": "stream",
     "text": [
      "3428it [00:07, 444.42it/s]\n"
     ]
    },
    {
     "name": "stdout",
     "output_type": "stream",
     "text": [
      "[INFO] train set\n",
      "torch.Size([2116368, 1053])\n",
      "torch.Size([2116368])\n",
      "[Dataset] - # phone classes: 41, number of utterances for val: 858\n"
     ]
    },
    {
     "name": "stderr",
     "output_type": "stream",
     "text": [
      "858it [00:01, 455.21it/s]\n"
     ]
    },
    {
     "name": "stdout",
     "output_type": "stream",
     "text": [
      "[INFO] val set\n",
      "torch.Size([527790, 1053])\n",
      "torch.Size([527790])\n"
     ]
    },
    {
     "name": "stderr",
     "output_type": "stream",
     "text": [
      "100%|██████████| 4134/4134 [00:39<00:00, 105.70it/s]\n",
      "100%|██████████| 1031/1031 [00:04<00:00, 214.00it/s]\n"
     ]
    },
    {
     "name": "stdout",
     "output_type": "stream",
     "text": [
      "[001/005] Train Acc: 0.594286 Loss: 1.380570 | Val Acc: 0.662739 loss: 1.133481\n",
      "saving model with acc 0.663\n"
     ]
    },
    {
     "name": "stderr",
     "output_type": "stream",
     "text": [
      "100%|██████████| 4134/4134 [00:36<00:00, 113.03it/s]\n",
      "100%|██████████| 1031/1031 [00:04<00:00, 244.04it/s]\n"
     ]
    },
    {
     "name": "stdout",
     "output_type": "stream",
     "text": [
      "[002/005] Train Acc: 0.727784 Loss: 0.895205 | Val Acc: 0.694886 loss: 1.026615\n",
      "saving model with acc 0.695\n"
     ]
    },
    {
     "name": "stderr",
     "output_type": "stream",
     "text": [
      "100%|██████████| 4134/4134 [00:33<00:00, 125.16it/s]\n",
      "100%|██████████| 1031/1031 [00:04<00:00, 240.91it/s]\n"
     ]
    },
    {
     "name": "stdout",
     "output_type": "stream",
     "text": [
      "[003/005] Train Acc: 0.788583 Loss: 0.680571 | Val Acc: 0.701823 loss: 1.051554\n",
      "saving model with acc 0.702\n"
     ]
    },
    {
     "name": "stderr",
     "output_type": "stream",
     "text": [
      "100%|██████████| 4134/4134 [00:32<00:00, 126.35it/s]\n",
      "100%|██████████| 1031/1031 [00:03<00:00, 259.65it/s]\n"
     ]
    },
    {
     "name": "stdout",
     "output_type": "stream",
     "text": [
      "[004/005] Train Acc: 0.837374 Loss: 0.511630 | Val Acc: 0.698643 loss: 1.141446\n"
     ]
    },
    {
     "name": "stderr",
     "output_type": "stream",
     "text": [
      "100%|██████████| 4134/4134 [00:31<00:00, 130.35it/s]\n",
      "100%|██████████| 1031/1031 [00:04<00:00, 237.24it/s]\n",
      "\u001b[32m[I 2022-03-11 05:36:12,007]\u001b[0m Trial 27 finished with value: 0.7018226946323348 and parameters: {'concat_nframes': 27, 'hidden_layers': 7, 'hidden_dims': 1792}. Best is trial 26 with value: 0.7161011008166127.\u001b[0m\n"
     ]
    },
    {
     "name": "stdout",
     "output_type": "stream",
     "text": [
      "[005/005] Train Acc: 0.875337 Loss: 0.383272 | Val Acc: 0.696309 loss: 1.288119\n",
      "[Dataset] - # phone classes: 41, number of utterances for train: 3428\n"
     ]
    },
    {
     "name": "stderr",
     "output_type": "stream",
     "text": [
      "3428it [00:09, 366.73it/s]\n"
     ]
    },
    {
     "name": "stdout",
     "output_type": "stream",
     "text": [
      "[INFO] train set\n",
      "torch.Size([2116368, 1131])\n",
      "torch.Size([2116368])\n",
      "[Dataset] - # phone classes: 41, number of utterances for val: 858\n"
     ]
    },
    {
     "name": "stderr",
     "output_type": "stream",
     "text": [
      "858it [00:02, 412.58it/s]\n"
     ]
    },
    {
     "name": "stdout",
     "output_type": "stream",
     "text": [
      "[INFO] val set\n",
      "torch.Size([527790, 1131])\n",
      "torch.Size([527790])\n"
     ]
    },
    {
     "name": "stderr",
     "output_type": "stream",
     "text": [
      "100%|██████████| 4134/4134 [00:30<00:00, 133.76it/s]\n",
      "100%|██████████| 1031/1031 [00:04<00:00, 225.45it/s]\n"
     ]
    },
    {
     "name": "stdout",
     "output_type": "stream",
     "text": [
      "[001/005] Train Acc: 0.599753 Loss: 1.320251 | Val Acc: 0.660312 loss: 1.097763\n",
      "saving model with acc 0.660\n"
     ]
    },
    {
     "name": "stderr",
     "output_type": "stream",
     "text": [
      "100%|██████████| 4134/4134 [00:27<00:00, 148.02it/s]\n",
      "100%|██████████| 1031/1031 [00:03<00:00, 268.37it/s]\n"
     ]
    },
    {
     "name": "stdout",
     "output_type": "stream",
     "text": [
      "[002/005] Train Acc: 0.704453 Loss: 0.941632 | Val Acc: 0.691902 loss: 0.989395\n",
      "saving model with acc 0.692\n"
     ]
    },
    {
     "name": "stderr",
     "output_type": "stream",
     "text": [
      "100%|██████████| 4134/4134 [00:26<00:00, 155.77it/s]\n",
      "100%|██████████| 1031/1031 [00:04<00:00, 247.66it/s]\n"
     ]
    },
    {
     "name": "stdout",
     "output_type": "stream",
     "text": [
      "[003/005] Train Acc: 0.748996 Loss: 0.790115 | Val Acc: 0.705053 loss: 0.957851\n",
      "saving model with acc 0.705\n"
     ]
    },
    {
     "name": "stderr",
     "output_type": "stream",
     "text": [
      "100%|██████████| 4134/4134 [00:26<00:00, 158.48it/s]\n",
      "100%|██████████| 1031/1031 [00:03<00:00, 273.94it/s]\n"
     ]
    },
    {
     "name": "stdout",
     "output_type": "stream",
     "text": [
      "[004/005] Train Acc: 0.784959 Loss: 0.668297 | Val Acc: 0.707819 loss: 0.968326\n",
      "saving model with acc 0.708\n"
     ]
    },
    {
     "name": "stderr",
     "output_type": "stream",
     "text": [
      "100%|██████████| 4134/4134 [00:26<00:00, 155.90it/s]\n",
      "100%|██████████| 1031/1031 [00:04<00:00, 249.22it/s]\n",
      "\u001b[32m[I 2022-03-11 05:39:03,882]\u001b[0m Trial 28 finished with value: 0.707944447602266 and parameters: {'concat_nframes': 29, 'hidden_layers': 5, 'hidden_dims': 1280}. Best is trial 26 with value: 0.7161011008166127.\u001b[0m\n"
     ]
    },
    {
     "name": "stdout",
     "output_type": "stream",
     "text": [
      "[005/005] Train Acc: 0.818527 Loss: 0.558873 | Val Acc: 0.707944 loss: 1.013674\n",
      "saving model with acc 0.708\n",
      "[Dataset] - # phone classes: 41, number of utterances for train: 3428\n"
     ]
    },
    {
     "name": "stderr",
     "output_type": "stream",
     "text": [
      "3428it [00:07, 489.41it/s]\n"
     ]
    },
    {
     "name": "stdout",
     "output_type": "stream",
     "text": [
      "[INFO] train set\n",
      "torch.Size([2116368, 1053])\n",
      "torch.Size([2116368])\n",
      "[Dataset] - # phone classes: 41, number of utterances for val: 858\n"
     ]
    },
    {
     "name": "stderr",
     "output_type": "stream",
     "text": [
      "858it [00:02, 384.61it/s]\n"
     ]
    },
    {
     "name": "stdout",
     "output_type": "stream",
     "text": [
      "[INFO] val set\n",
      "torch.Size([527790, 1053])\n",
      "torch.Size([527790])\n"
     ]
    },
    {
     "name": "stderr",
     "output_type": "stream",
     "text": [
      "100%|██████████| 4134/4134 [00:30<00:00, 135.33it/s]\n",
      "100%|██████████| 1031/1031 [00:04<00:00, 225.42it/s]\n"
     ]
    },
    {
     "name": "stdout",
     "output_type": "stream",
     "text": [
      "[001/005] Train Acc: 0.617774 Loss: 1.253006 | Val Acc: 0.669389 loss: 1.057845\n",
      "saving model with acc 0.669\n"
     ]
    },
    {
     "name": "stderr",
     "output_type": "stream",
     "text": [
      "100%|██████████| 4134/4134 [00:26<00:00, 154.51it/s]\n",
      "100%|██████████| 1031/1031 [00:03<00:00, 286.17it/s]\n"
     ]
    },
    {
     "name": "stdout",
     "output_type": "stream",
     "text": [
      "[002/005] Train Acc: 0.715050 Loss: 0.902542 | Val Acc: 0.698086 loss: 0.960775\n",
      "saving model with acc 0.698\n"
     ]
    },
    {
     "name": "stderr",
     "output_type": "stream",
     "text": [
      "100%|██████████| 4134/4134 [00:24<00:00, 168.32it/s]\n",
      "100%|██████████| 1031/1031 [00:03<00:00, 262.22it/s]\n"
     ]
    },
    {
     "name": "stdout",
     "output_type": "stream",
     "text": [
      "[003/005] Train Acc: 0.759049 Loss: 0.752239 | Val Acc: 0.710550 loss: 0.933292\n",
      "saving model with acc 0.711\n"
     ]
    },
    {
     "name": "stderr",
     "output_type": "stream",
     "text": [
      "100%|██████████| 4134/4134 [00:26<00:00, 156.71it/s]\n",
      "100%|██████████| 1031/1031 [00:03<00:00, 275.29it/s]\n"
     ]
    },
    {
     "name": "stdout",
     "output_type": "stream",
     "text": [
      "[004/005] Train Acc: 0.796874 Loss: 0.625363 | Val Acc: 0.715273 loss: 0.944089\n",
      "saving model with acc 0.715\n"
     ]
    },
    {
     "name": "stderr",
     "output_type": "stream",
     "text": [
      "100%|██████████| 4134/4134 [00:25<00:00, 163.51it/s]\n",
      "100%|██████████| 1031/1031 [00:03<00:00, 264.19it/s]\n",
      "\u001b[32m[I 2022-03-11 05:41:48,337]\u001b[0m Trial 29 finished with value: 0.7152731199909055 and parameters: {'concat_nframes': 27, 'hidden_layers': 4, 'hidden_dims': 1536}. Best is trial 26 with value: 0.7161011008166127.\u001b[0m\n"
     ]
    },
    {
     "name": "stdout",
     "output_type": "stream",
     "text": [
      "[005/005] Train Acc: 0.832657 Loss: 0.507431 | Val Acc: 0.711567 loss: 1.010851\n",
      "concat_nframes: 27\n",
      "hidden_layers: 4\n",
      "hidden_dims: 1792\n"
     ]
    }
   ],
   "source": [
    "study = optuna.create_study(direction=\"maximize\", sampler=optuna.samplers.TPESampler())\n",
    "study.optimize(objective, n_trials=30)\n",
    "\n",
    "best_trial = study.best_trial\n",
    "for key, value in best_trial.params.items():\n",
    "    print(\"{}: {}\".format(key, value))\n"
   ]
  },
  {
   "cell_type": "code",
   "execution_count": 46,
   "metadata": {
    "id": "h75B4H1_mcx8"
   },
   "outputs": [
    {
     "data": {
      "text/html": [
       "<div>\n",
       "<style scoped>\n",
       "    .dataframe tbody tr th:only-of-type {\n",
       "        vertical-align: middle;\n",
       "    }\n",
       "\n",
       "    .dataframe tbody tr th {\n",
       "        vertical-align: top;\n",
       "    }\n",
       "\n",
       "    .dataframe thead th {\n",
       "        text-align: right;\n",
       "    }\n",
       "</style>\n",
       "<table border=\"1\" class=\"dataframe\">\n",
       "  <thead>\n",
       "    <tr style=\"text-align: right;\">\n",
       "      <th></th>\n",
       "      <th>number</th>\n",
       "      <th>value</th>\n",
       "      <th>datetime_start</th>\n",
       "      <th>datetime_complete</th>\n",
       "      <th>duration</th>\n",
       "      <th>params_concat_nframes</th>\n",
       "      <th>params_hidden_dims</th>\n",
       "      <th>params_hidden_layers</th>\n",
       "      <th>state</th>\n",
       "    </tr>\n",
       "  </thead>\n",
       "  <tbody>\n",
       "    <tr>\n",
       "      <th>26</th>\n",
       "      <td>26</td>\n",
       "      <td>0.716101</td>\n",
       "      <td>2022-03-11 05:30:02.825778</td>\n",
       "      <td>2022-03-11 05:32:45.262930</td>\n",
       "      <td>0 days 00:02:42.437152</td>\n",
       "      <td>27</td>\n",
       "      <td>1792</td>\n",
       "      <td>4</td>\n",
       "      <td>COMPLETE</td>\n",
       "    </tr>\n",
       "  </tbody>\n",
       "</table>\n",
       "</div>"
      ],
      "text/plain": [
       "    number     value             datetime_start          datetime_complete  \\\n",
       "26      26  0.716101 2022-03-11 05:30:02.825778 2022-03-11 05:32:45.262930   \n",
       "\n",
       "                 duration  params_concat_nframes  params_hidden_dims  \\\n",
       "26 0 days 00:02:42.437152                     27                1792   \n",
       "\n",
       "    params_hidden_layers     state  \n",
       "26                     4  COMPLETE  "
      ]
     },
     "execution_count": 46,
     "metadata": {},
     "output_type": "execute_result"
    }
   ],
   "source": [
    "hist = study.trials_dataframe()\n",
    "hist[hist['value'] == hist['value'].max()]"
   ]
  },
  {
   "cell_type": "code",
   "execution_count": 26,
   "metadata": {
    "colab": {
     "base_uri": "https://localhost:8080/"
    },
    "id": "ab33MxosWLmG",
    "outputId": "5de6b911-40ff-4e83-dbf5-dd725c7ba728"
   },
   "outputs": [
    {
     "data": {
      "text/plain": [
       "0"
      ]
     },
     "execution_count": 26,
     "metadata": {},
     "output_type": "execute_result"
    }
   ],
   "source": [
    "del train_loader, val_loader\n",
    "gc.collect()"
   ]
  },
  {
   "cell_type": "markdown",
   "metadata": {
    "id": "1Hi7jTn3PX-m"
   },
   "source": [
    "## Testing\n",
    "Create a testing dataset, and load model from the saved checkpoint."
   ]
  },
  {
   "cell_type": "code",
   "execution_count": 27,
   "metadata": {
    "colab": {
     "base_uri": "https://localhost:8080/"
    },
    "id": "VOG1Ou0PGrhc",
    "outputId": "8ca62738-dd52-4e0b-fb90-5df1c35fbfbb"
   },
   "outputs": [
    {
     "ename": "NameError",
     "evalue": "name 'concat_nframes' is not defined",
     "output_type": "error",
     "traceback": [
      "\u001b[0;31m---------------------------------------------------------------------------\u001b[0m",
      "\u001b[0;31mNameError\u001b[0m                                 Traceback (most recent call last)",
      "Input \u001b[0;32mIn [27]\u001b[0m, in \u001b[0;36m<cell line: 2>\u001b[0;34m()\u001b[0m\n\u001b[1;32m      1\u001b[0m \u001b[38;5;66;03m# load data\u001b[39;00m\n\u001b[0;32m----> 2\u001b[0m test_X \u001b[38;5;241m=\u001b[39m preprocess_data(split\u001b[38;5;241m=\u001b[39m\u001b[38;5;124m'\u001b[39m\u001b[38;5;124mtest\u001b[39m\u001b[38;5;124m'\u001b[39m, feat_dir\u001b[38;5;241m=\u001b[39m\u001b[38;5;124m'\u001b[39m\u001b[38;5;124m./libriphone/feat\u001b[39m\u001b[38;5;124m'\u001b[39m, phone_path\u001b[38;5;241m=\u001b[39m\u001b[38;5;124m'\u001b[39m\u001b[38;5;124m./libriphone\u001b[39m\u001b[38;5;124m'\u001b[39m, concat_nframes\u001b[38;5;241m=\u001b[39mconcat_nframes)\n\u001b[1;32m      3\u001b[0m test_set \u001b[38;5;241m=\u001b[39m LibriDataset(test_X, \u001b[38;5;28;01mNone\u001b[39;00m)\n\u001b[1;32m      4\u001b[0m test_loader \u001b[38;5;241m=\u001b[39m DataLoader(test_set, batch_size\u001b[38;5;241m=\u001b[39mbatch_size, shuffle\u001b[38;5;241m=\u001b[39m\u001b[38;5;28;01mFalse\u001b[39;00m)\n",
      "\u001b[0;31mNameError\u001b[0m: name 'concat_nframes' is not defined"
     ]
    }
   ],
   "source": [
    "# load data\n",
    "test_X = preprocess_data(split='test', feat_dir='./libriphone/feat', phone_path='./libriphone', concat_nframes=concat_nframes)\n",
    "test_set = LibriDataset(test_X, None)\n",
    "test_loader = DataLoader(test_set, batch_size=batch_size, shuffle=False)"
   ]
  },
  {
   "cell_type": "code",
   "execution_count": null,
   "metadata": {
    "colab": {
     "base_uri": "https://localhost:8080/"
    },
    "id": "ay0Fu8Ovkdad",
    "outputId": "2ef22f15-415e-4dc9-ac1f-185774c4d8d6"
   },
   "outputs": [],
   "source": [
    "# load model\n",
    "model = Classifier(input_dim=input_dim, hidden_layers=hidden_layers, hidden_dim=hidden_dim).to(device)\n",
    "model.load_state_dict(torch.load(model_path))"
   ]
  },
  {
   "cell_type": "markdown",
   "metadata": {
    "id": "zp-DV1p4r7Nz"
   },
   "source": [
    "Make prediction."
   ]
  },
  {
   "cell_type": "code",
   "execution_count": null,
   "metadata": {
    "colab": {
     "base_uri": "https://localhost:8080/"
    },
    "id": "84HU5GGjPqR0",
    "outputId": "b4cd7af1-afe3-4f5c-e13c-b3cda7d15c65"
   },
   "outputs": [],
   "source": [
    "test_acc = 0.0\n",
    "test_lengths = 0\n",
    "pred = np.array([], dtype=np.int32)\n",
    "\n",
    "model.eval()\n",
    "with torch.no_grad():\n",
    "    for i, batch in enumerate(tqdm(test_loader)):\n",
    "        features = batch\n",
    "        features = features.to(device)\n",
    "\n",
    "        outputs = model(features)\n",
    "\n",
    "        _, test_pred = torch.max(outputs, 1) # get the index of the class with the highest probability\n",
    "        pred = np.concatenate((pred, test_pred.cpu().numpy()), axis=0)\n"
   ]
  },
  {
   "cell_type": "markdown",
   "metadata": {
    "id": "wyZqy40Prz0v"
   },
   "source": [
    "Write prediction to a CSV file.\n",
    "\n",
    "After finish running this block, download the file `prediction.csv` from the files section on the left-hand side and submit it to Kaggle."
   ]
  },
  {
   "cell_type": "code",
   "execution_count": null,
   "metadata": {
    "id": "GuljYSPHcZir"
   },
   "outputs": [],
   "source": [
    "with open('prediction.csv', 'w') as f:\n",
    "    f.write('Id,Class\\n')\n",
    "    for i, y in enumerate(pred):\n",
    "        f.write('{},{}\\n'.format(i, y))"
   ]
  }
 ],
 "metadata": {
  "accelerator": "GPU",
  "colab": {
   "collapsed_sections": [],
   "name": "HW2",
   "provenance": []
  },
  "kernelspec": {
   "display_name": "Python 3 (ipykernel)",
   "language": "python",
   "name": "python3"
  },
  "language_info": {
   "codemirror_mode": {
    "name": "ipython",
    "version": 3
   },
   "file_extension": ".py",
   "mimetype": "text/x-python",
   "name": "python",
   "nbconvert_exporter": "python",
   "pygments_lexer": "ipython3",
   "version": "3.8.10"
  }
 },
 "nbformat": 4,
 "nbformat_minor": 1
}
